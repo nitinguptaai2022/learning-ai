{
 "cells": [
  {
   "cell_type": "code",
   "execution_count": 1,
   "id": "84e99edd",
   "metadata": {},
   "outputs": [],
   "source": [
    "a=10"
   ]
  },
  {
   "cell_type": "code",
   "execution_count": 2,
   "id": "dd31f391",
   "metadata": {},
   "outputs": [
    {
     "name": "stdout",
     "output_type": "stream",
     "text": [
      "i am less than 15\n"
     ]
    }
   ],
   "source": [
    "if a<15:\n",
    "    print(\"i am less than 15\")\n",
    "else:\n",
    "    print(\"i am greater than 15\")"
   ]
  },
  {
   "cell_type": "code",
   "execution_count": 3,
   "id": "c9ef0933",
   "metadata": {},
   "outputs": [],
   "source": [
    "if a<15:\n",
    "    pass #this condition will not do anything and a dead loop here."
   ]
  },
  {
   "cell_type": "code",
   "execution_count": 5,
   "id": "34958ff1",
   "metadata": {},
   "outputs": [
    {
     "name": "stdout",
     "output_type": "stream",
     "text": [
      "i am equal to 10\n"
     ]
    }
   ],
   "source": [
    "if a<10:\n",
    "    print(\"i am less than 10\")\n",
    "elif a==10:\n",
    "    print(\"i am equal to 10\")\n",
    "else:\n",
    "    print(\"i am greater than 10\")    "
   ]
  },
  {
   "cell_type": "code",
   "execution_count": 9,
   "id": "13b88987",
   "metadata": {},
   "outputs": [
    {
     "name": "stdout",
     "output_type": "stream",
     "text": [
      "11\n",
      "provided input is 11 greater than 10\n"
     ]
    }
   ],
   "source": [
    "a=int(input())\n",
    "if a<10:\n",
    "    print(\"provided input is\",a,\"less than 10\")\n",
    "elif a==10:\n",
    "    print(\"provided input is\",a,\"equal to 10\")\n",
    "else:\n",
    "    print(\"provided input is\",a,\"greater than 10\")   "
   ]
  },
  {
   "cell_type": "code",
   "execution_count": 10,
   "id": "d65c3ab4",
   "metadata": {},
   "outputs": [
    {
     "name": "stdout",
     "output_type": "stream",
     "text": [
      "10\n",
      "provided input is 10\n",
      "provided input is equal to 10\n"
     ]
    }
   ],
   "source": [
    "a=int(input())\n",
    "if a<10:\n",
    "    print(\"provided input is\",a)\n",
    "    print(\"provided input is less than 10\")\n",
    "elif a==10:\n",
    "    print(\"provided input is\",a)\n",
    "    print(\"provided input is equal to 10\")\n",
    "else:\n",
    "    print(\"provided input is\",a)\n",
    "    print(\"provided input is greater than 10\")   "
   ]
  },
  {
   "cell_type": "code",
   "execution_count": 20,
   "id": "01a15765",
   "metadata": {},
   "outputs": [
    {
     "name": "stdout",
     "output_type": "stream",
     "text": [
      "32\n",
      "i am in range of 10 and 20\n"
     ]
    }
   ],
   "source": [
    "a=int(input())\n",
    "if a>10 & a<20:\n",
    "    print(\"i am in range of 10 and 20\")\n",
    "else:\n",
    "    print(\"i am not in range of 10 and 20\")"
   ]
  },
  {
   "cell_type": "code",
   "execution_count": 21,
   "id": "00223a94",
   "metadata": {},
   "outputs": [
    {
     "name": "stdout",
     "output_type": "stream",
     "text": [
      "32\n",
      "i am not in range of 10 and 20\n"
     ]
    }
   ],
   "source": [
    "a=int(input())\n",
    "if a>10 and a<20:\n",
    "    print(\"i am in range of 10 and 20\")\n",
    "else:\n",
    "    print(\"i am not in range of 10 and 20\")"
   ]
  },
  {
   "cell_type": "code",
   "execution_count": 22,
   "id": "93e3ceb4",
   "metadata": {},
   "outputs": [
    {
     "name": "stdout",
     "output_type": "stream",
     "text": [
      "2\n"
     ]
    },
    {
     "ename": "TypeError",
     "evalue": "unsupported operand type(s) for &: 'int' and 'float'",
     "output_type": "error",
     "traceback": [
      "\u001b[1;31m---------------------------------------------------------------------------\u001b[0m",
      "\u001b[1;31mTypeError\u001b[0m                                 Traceback (most recent call last)",
      "\u001b[1;32m~\\AppData\\Local\\Temp/ipykernel_3468/824530334.py\u001b[0m in \u001b[0;36m<module>\u001b[1;34m\u001b[0m\n\u001b[0;32m      1\u001b[0m \u001b[0mstudy\u001b[0m \u001b[1;33m=\u001b[0m \u001b[0mfloat\u001b[0m\u001b[1;33m(\u001b[0m\u001b[0minput\u001b[0m\u001b[1;33m(\u001b[0m\u001b[1;33m)\u001b[0m\u001b[1;33m)\u001b[0m\u001b[1;33m\u001b[0m\u001b[1;33m\u001b[0m\u001b[0m\n\u001b[1;32m----> 2\u001b[1;33m \u001b[1;32mif\u001b[0m \u001b[0mstudy\u001b[0m \u001b[1;33m<\u001b[0m \u001b[1;36m1\u001b[0m \u001b[1;33m&\u001b[0m \u001b[0mstudy\u001b[0m \u001b[1;33m>\u001b[0m \u001b[1;36m0.5\u001b[0m\u001b[1;33m:\u001b[0m\u001b[1;33m\u001b[0m\u001b[1;33m\u001b[0m\u001b[0m\n\u001b[0m\u001b[0;32m      3\u001b[0m     \u001b[0mprint\u001b[0m\u001b[1;33m(\u001b[0m\u001b[1;34m\"you may succeed\"\u001b[0m\u001b[1;33m)\u001b[0m\u001b[1;33m\u001b[0m\u001b[1;33m\u001b[0m\u001b[0m\n\u001b[0;32m      4\u001b[0m \u001b[1;32melif\u001b[0m \u001b[0mstudy\u001b[0m \u001b[1;33m<\u001b[0m \u001b[1;36m2\u001b[0m \u001b[1;33m&\u001b[0m \u001b[0mstudy\u001b[0m \u001b[1;33m>\u001b[0m \u001b[1;36m1\u001b[0m\u001b[1;33m:\u001b[0m\u001b[1;33m\u001b[0m\u001b[1;33m\u001b[0m\u001b[0m\n\u001b[0;32m      5\u001b[0m     \u001b[0mprint\u001b[0m\u001b[1;33m(\u001b[0m\u001b[1;34m\"again succeed\"\u001b[0m\u001b[1;33m)\u001b[0m\u001b[1;33m\u001b[0m\u001b[1;33m\u001b[0m\u001b[0m\n",
      "\u001b[1;31mTypeError\u001b[0m: unsupported operand type(s) for &: 'int' and 'float'"
     ]
    }
   ],
   "source": [
    "study = float(input())\n",
    "if study < 1 & study > 0.5:\n",
    "    print(\"you may succeed\")\n",
    "elif study < 2 & study > 1:\n",
    "    print(\"again succeed\")\n",
    "else:\n",
    "    print(\"fail\")"
   ]
  },
  {
   "cell_type": "code",
   "execution_count": 23,
   "id": "2b66682f",
   "metadata": {},
   "outputs": [
    {
     "name": "stdout",
     "output_type": "stream",
     "text": [
      "2\n",
      "fail\n"
     ]
    }
   ],
   "source": [
    "study = float(input())\n",
    "if study < 1 and study > 0.5:\n",
    "    print(\"you may succeed\")\n",
    "elif study < 2 and study > 1:\n",
    "    print(\"again succeed\")\n",
    "else:\n",
    "    print(\"fail\")"
   ]
  },
  {
   "cell_type": "code",
   "execution_count": 25,
   "id": "dc375bb3",
   "metadata": {},
   "outputs": [
    {
     "name": "stdout",
     "output_type": "stream",
     "text": [
      "1.5\n",
      "again succeed\n"
     ]
    }
   ],
   "source": [
    "study = float(input())\n",
    "if study < 1 and study > 0.5:\n",
    "    print(\"you may succeed\")\n",
    "elif study < 2 and study > 1:\n",
    "    print(\"again succeed\")\n",
    "else:\n",
    "    print(\"fail\")"
   ]
  },
  {
   "cell_type": "code",
   "execution_count": 26,
   "id": "d7472708",
   "metadata": {},
   "outputs": [
    {
     "name": "stdout",
     "output_type": "stream",
     "text": [
      "valid\n"
     ]
    }
   ],
   "source": [
    "a=9\n",
    "if a==9: print (\"valid\")"
   ]
  },
  {
   "cell_type": "code",
   "execution_count": 28,
   "id": "6c653861",
   "metadata": {},
   "outputs": [
    {
     "name": "stdout",
     "output_type": "stream",
     "text": [
      "provide your input hello\n",
      "provided input is hello\n"
     ]
    }
   ],
   "source": [
    "s=input(\"provide your input \")\n",
    "print(\"provided input is\",s)"
   ]
  },
  {
   "cell_type": "code",
   "execution_count": 29,
   "id": "a44673ed",
   "metadata": {},
   "outputs": [],
   "source": [
    "l=[1,2,4,5,\"sudh\",7+8j,[5,6,7,8]]"
   ]
  },
  {
   "cell_type": "code",
   "execution_count": 31,
   "id": "62e30ad1",
   "metadata": {},
   "outputs": [
    {
     "name": "stdout",
     "output_type": "stream",
     "text": [
      "1\n",
      "2\n",
      "4\n",
      "5\n"
     ]
    }
   ],
   "source": [
    "#to print only integers from above list\n",
    "for i in l:\n",
    "    if type(i)==int:\n",
    "        print(i)"
   ]
  },
  {
   "cell_type": "code",
   "execution_count": 56,
   "id": "3dca530f",
   "metadata": {},
   "outputs": [],
   "source": [
    "l=[2,45,78,12,12,\"sudh\",\"kumar\",6+7j,[56,67,78,\"ABCD\"]] "
   ]
  },
  {
   "cell_type": "code",
   "execution_count": 57,
   "id": "fda7f64e",
   "metadata": {},
   "outputs": [
    {
     "name": "stdout",
     "output_type": "stream",
     "text": [
      "index of 2 is 0\n",
      "index of 45 is 1\n",
      "index of 78 is 2\n",
      "index of 12 is 3\n",
      "index of 12 is 3\n",
      "index of sudh is 5\n",
      "index of kumar is 6\n",
      "index of (6+7j) is 7\n",
      "index of [56, 67, 78, 'ABCD'] is 8\n",
      "['s', 'u', 'd', 'h']\n",
      "['k', 'u', 'm', 'a', 'r']\n",
      "square of 2 is 4\n",
      "square of 45 is 2025\n",
      "square of 78 is 6084\n",
      "square of 12 is 144\n",
      "square of 12 is 144\n"
     ]
    }
   ],
   "source": [
    "#q1 - try to print index of all element\n",
    "#q2 - try to extract all the list of char if element is string\n",
    "#q3 - try to return a list after doing a square of all the int element\n",
    "for i in l:\n",
    "    print(\"index of\",i,\"is\",l.index(i)) #index should not be used because index of any repeatitive value will not come. check diff in range and enumerate function\n",
    "for i in l:\n",
    "    if type(i) == str:\n",
    "        print(list(i))\n",
    "for i in l:    \n",
    "    if type(i) == int:\n",
    "        print(\"square of\",i,\"is\",i*i)        "
   ]
  },
  {
   "cell_type": "code",
   "execution_count": 44,
   "id": "e2d4887f",
   "metadata": {},
   "outputs": [
    {
     "data": {
      "text/plain": [
       "range(0, 4)"
      ]
     },
     "execution_count": 44,
     "metadata": {},
     "output_type": "execute_result"
    }
   ],
   "source": [
    "range(4)"
   ]
  },
  {
   "cell_type": "code",
   "execution_count": 62,
   "id": "e0db1617",
   "metadata": {},
   "outputs": [
    {
     "name": "stdout",
     "output_type": "stream",
     "text": [
      "[2, 45, 78, 12, 12, 'sudh', 'kumar', (6+7j), [56, 67, 78, 'ABCD']]\n",
      "Q1\n",
      "via range function\n",
      "index is 0 for an element 2\n",
      "index is 1 for an element 45\n",
      "index is 2 for an element 78\n",
      "index is 3 for an element 12\n",
      "index is 4 for an element 12\n",
      "index is 5 for an element sudh\n",
      "index is 6 for an element kumar\n",
      "index is 7 for an element (6+7j)\n",
      "index is 8 for an element [56, 67, 78, 'ABCD']\n",
      "\n",
      "via enumerate function\n",
      "(0, 2)\n",
      "(1, 45)\n",
      "(2, 78)\n",
      "(3, 12)\n",
      "(4, 12)\n",
      "(5, 'sudh')\n",
      "(6, 'kumar')\n",
      "(7, (6+7j))\n",
      "(8, [56, 67, 78, 'ABCD'])\n",
      "\n",
      "via enumerate function in another way\n",
      "0 2\n",
      "1 45\n",
      "2 78\n",
      "3 12\n",
      "4 12\n",
      "5 sudh\n",
      "6 kumar\n",
      "7 (6+7j)\n",
      "8 [56, 67, 78, 'ABCD']\n",
      "\n",
      "Q2\n",
      "via blank list\n",
      "['s', 'u', 'd', 'h']\n",
      "['k', 'u', 'm', 'a', 'r']\n",
      "\n",
      "Q3\n",
      "via blank list\n",
      "[4, 2025, 6084, 144, 144]\n"
     ]
    }
   ],
   "source": [
    "#recommended solution is below\n",
    "print(l)\n",
    "print(\"Q1\")\n",
    "print(\"via range function\")\n",
    "for i in range(len(l)):\n",
    "    print(\"index is\",i,\"for an element\",l[i])\n",
    "\n",
    "print(\"\")\n",
    "print(\"via enumerate function\")\n",
    "for i in enumerate(l):\n",
    "    print(i)\n",
    "\n",
    "print(\"\")\n",
    "print(\"via enumerate function in another way\")\n",
    "for i,j in enumerate(l):\n",
    "    print(i,j)\n",
    "\n",
    "print(\"\")    \n",
    "print(\"Q2\")\n",
    "print(\"via blank list\")\n",
    "for i in l:\n",
    "    if type(i) == str:\n",
    "        l1=[]\n",
    "        for j in i:\n",
    "            l1.append(j)\n",
    "        print(list(i))\n",
    "\n",
    "print(\"\")    \n",
    "print(\"Q3\")\n",
    "print(\"via blank list\")\n",
    "l2=[]\n",
    "for i in l:\n",
    "    if type(i) == int:\n",
    "        l2.append(i**2)\n",
    "    \n",
    "print(l2)"
   ]
  },
  {
   "cell_type": "code",
   "execution_count": null,
   "id": "df8ce9ac",
   "metadata": {},
   "outputs": [],
   "source": []
  }
 ],
 "metadata": {
  "kernelspec": {
   "display_name": "Python 3 (ipykernel)",
   "language": "python",
   "name": "python3"
  },
  "language_info": {
   "codemirror_mode": {
    "name": "ipython",
    "version": 3
   },
   "file_extension": ".py",
   "mimetype": "text/x-python",
   "name": "python",
   "nbconvert_exporter": "python",
   "pygments_lexer": "ipython3",
   "version": "3.9.7"
  }
 },
 "nbformat": 4,
 "nbformat_minor": 5
}
