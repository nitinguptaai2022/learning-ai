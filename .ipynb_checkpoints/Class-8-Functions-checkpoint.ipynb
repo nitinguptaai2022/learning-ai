{
 "cells": [
  {
   "cell_type": "code",
   "execution_count": 1,
   "id": "bca9bb84",
   "metadata": {},
   "outputs": [],
   "source": [
    "#try to resolve problem where you need to pass number of inputs where you dont know how many inputs client will pass"
   ]
  },
  {
   "cell_type": "code",
   "execution_count": 8,
   "id": "15840b9b",
   "metadata": {},
   "outputs": [],
   "source": [
    "def test(a,b,c):\n",
    "    return a,b,c"
   ]
  },
  {
   "cell_type": "code",
   "execution_count": 9,
   "id": "95d94386",
   "metadata": {},
   "outputs": [
    {
     "data": {
      "text/plain": [
       "(1, 2, 3)"
      ]
     },
     "execution_count": 9,
     "metadata": {},
     "output_type": "execute_result"
    }
   ],
   "source": [
    "test(1,2,3)"
   ]
  },
  {
   "cell_type": "code",
   "execution_count": 4,
   "id": "c66e7584",
   "metadata": {},
   "outputs": [],
   "source": [
    "#tomorrow I can pass 4 arguments as well"
   ]
  },
  {
   "cell_type": "code",
   "execution_count": 5,
   "id": "c76122ca",
   "metadata": {},
   "outputs": [],
   "source": [
    "def test(a,b,c, d):\n",
    "    return a,b,c, d"
   ]
  },
  {
   "cell_type": "code",
   "execution_count": 6,
   "id": "525c3d8a",
   "metadata": {},
   "outputs": [
    {
     "data": {
      "text/plain": [
       "(1, 3, 4, 6)"
      ]
     },
     "execution_count": 6,
     "metadata": {},
     "output_type": "execute_result"
    }
   ],
   "source": [
    "test(1,3,4,6)"
   ]
  },
  {
   "cell_type": "code",
   "execution_count": 10,
   "id": "771ef1d1",
   "metadata": {},
   "outputs": [],
   "source": [
    "#so everytime I am not going to modify the function then how to achieve this, pls see below. This can be achieved by * keyword\n",
    "def test(*args):\n",
    "    return args"
   ]
  },
  {
   "cell_type": "code",
   "execution_count": 11,
   "id": "e85ddef1",
   "metadata": {},
   "outputs": [
    {
     "data": {
      "text/plain": [
       "(1, 2)"
      ]
     },
     "execution_count": 11,
     "metadata": {},
     "output_type": "execute_result"
    }
   ],
   "source": [
    "test(1,2)"
   ]
  },
  {
   "cell_type": "code",
   "execution_count": 12,
   "id": "08d4e1ce",
   "metadata": {},
   "outputs": [
    {
     "data": {
      "text/plain": [
       "(1, 2, 3)"
      ]
     },
     "execution_count": 12,
     "metadata": {},
     "output_type": "execute_result"
    }
   ],
   "source": [
    "test(1,2,3)"
   ]
  },
  {
   "cell_type": "code",
   "execution_count": 16,
   "id": "2f5e01f4",
   "metadata": {},
   "outputs": [
    {
     "data": {
      "text/plain": [
       "('a', 'v', 'y', 3, 5, [3, 4, 2])"
      ]
     },
     "execution_count": 16,
     "metadata": {},
     "output_type": "execute_result"
    }
   ],
   "source": [
    "test(\"a\",\"v\",\"y\",3,5,[3,4,2])"
   ]
  },
  {
   "cell_type": "code",
   "execution_count": 18,
   "id": "3f82bc50",
   "metadata": {},
   "outputs": [],
   "source": [
    "#just to let you know that args is not standard keyword. It should be only * keyword which helped us here for dynamic/multiple arguments\n",
    "def test1(*xyz):\n",
    "    return xyz"
   ]
  },
  {
   "cell_type": "code",
   "execution_count": 19,
   "id": "14663ff4",
   "metadata": {},
   "outputs": [
    {
     "data": {
      "text/plain": [
       "(2, 67, 1)"
      ]
     },
     "execution_count": 19,
     "metadata": {},
     "output_type": "execute_result"
    }
   ],
   "source": [
    "test1(2,67,1)"
   ]
  },
  {
   "cell_type": "code",
   "execution_count": 20,
   "id": "e022891a",
   "metadata": {},
   "outputs": [
    {
     "data": {
      "text/plain": [
       "(789, 12)"
      ]
     },
     "execution_count": 20,
     "metadata": {},
     "output_type": "execute_result"
    }
   ],
   "source": [
    "test1(789,12)"
   ]
  },
  {
   "cell_type": "code",
   "execution_count": 2,
   "id": "d89147dc",
   "metadata": {},
   "outputs": [],
   "source": [
    "#to pass n number of variables with one specific variable\n",
    "def test11(*arg1, arg2):\n",
    "    return arg1, arg2"
   ]
  },
  {
   "cell_type": "code",
   "execution_count": 4,
   "id": "5f47b07f",
   "metadata": {},
   "outputs": [
    {
     "ename": "TypeError",
     "evalue": "test11() missing 1 required keyword-only argument: 'arg2'",
     "output_type": "error",
     "traceback": [
      "\u001b[1;31m---------------------------------------------------------------------------\u001b[0m",
      "\u001b[1;31mTypeError\u001b[0m                                 Traceback (most recent call last)",
      "\u001b[1;32m~\\AppData\\Local\\Temp/ipykernel_46012/1906545170.py\u001b[0m in \u001b[0;36m<module>\u001b[1;34m\u001b[0m\n\u001b[1;32m----> 1\u001b[1;33m \u001b[0mtest11\u001b[0m\u001b[1;33m(\u001b[0m\u001b[1;36m11\u001b[0m\u001b[1;33m,\u001b[0m\u001b[1;36m12\u001b[0m\u001b[1;33m,\u001b[0m\u001b[1;36m13\u001b[0m\u001b[1;33m)\u001b[0m\u001b[1;33m\u001b[0m\u001b[1;33m\u001b[0m\u001b[0m\n\u001b[0m",
      "\u001b[1;31mTypeError\u001b[0m: test11() missing 1 required keyword-only argument: 'arg2'"
     ]
    }
   ],
   "source": [
    "test11(11,12,13)"
   ]
  },
  {
   "cell_type": "code",
   "execution_count": 9,
   "id": "df2c7631",
   "metadata": {},
   "outputs": [
    {
     "data": {
      "text/plain": [
       "((11, 12), 13)"
      ]
     },
     "execution_count": 9,
     "metadata": {},
     "output_type": "execute_result"
    }
   ],
   "source": [
    "test11(11,12,arg2=13)"
   ]
  },
  {
   "cell_type": "code",
   "execution_count": 12,
   "id": "d84456fe",
   "metadata": {},
   "outputs": [],
   "source": [
    "#if I have to pass some additional arguments from our side then how to do\n",
    "def test12(*arg1, arg2, arg3, arg4):\n",
    "    return arg1, arg2, arg3, arg4"
   ]
  },
  {
   "cell_type": "code",
   "execution_count": null,
   "id": "df9de3c3",
   "metadata": {},
   "outputs": [],
   "source": []
  }
 ],
 "metadata": {
  "kernelspec": {
   "display_name": "Python 3 (ipykernel)",
   "language": "python",
   "name": "python3"
  },
  "language_info": {
   "codemirror_mode": {
    "name": "ipython",
    "version": 3
   },
   "file_extension": ".py",
   "mimetype": "text/x-python",
   "name": "python",
   "nbconvert_exporter": "python",
   "pygments_lexer": "ipython3",
   "version": "3.9.7"
  }
 },
 "nbformat": 4,
 "nbformat_minor": 5
}
