{
 "cells": [
  {
   "cell_type": "code",
   "execution_count": 1,
   "id": "7f0a4e8b",
   "metadata": {},
   "outputs": [
    {
     "ename": "SyntaxError",
     "evalue": "invalid syntax (Temp/ipykernel_17940/2066357761.py, line 4)",
     "output_type": "error",
     "traceback": [
      "\u001b[1;36m  File \u001b[1;32m\"C:\\Users\\ngupta\\AppData\\Local\\Temp/ipykernel_17940/2066357761.py\"\u001b[1;36m, line \u001b[1;32m4\u001b[0m\n\u001b[1;33m    except\u001b[0m\n\u001b[1;37m          ^\u001b[0m\n\u001b[1;31mSyntaxError\u001b[0m\u001b[1;31m:\u001b[0m invalid syntax\n"
     ]
    }
   ],
   "source": [
    "try:\n",
    "    d={\"key1\":\"sudh\",\"key2\":[1,2,3,4],\"key3\":(4,5,6,7)}\n",
    "    d[\"key4\"]=int(input())\n",
    "except"
   ]
  },
  {
   "cell_type": "code",
   "execution_count": 2,
   "id": "60d1bc11",
   "metadata": {},
   "outputs": [
    {
     "name": "stdout",
     "output_type": "stream",
     "text": [
      "abc\n",
      "invalid literal for int() with base 10: 'abc'\n"
     ]
    }
   ],
   "source": [
    "try:\n",
    "    d={\"key1\":\"sudh\",\"key2\":[1,2,3,4],\"key3\":(4,5,6,7)}\n",
    "    d[\"key4\"]=int(input())\n",
    "except Exception as ex:\n",
    "    print(ex)\n"
   ]
  },
  {
   "cell_type": "code",
   "execution_count": 3,
   "id": "c5987fa2",
   "metadata": {},
   "outputs": [
    {
     "name": "stdout",
     "output_type": "stream",
     "text": [
      "xyz\n",
      "invalid literal for int() with base 10: 'xyz'\n"
     ]
    }
   ],
   "source": [
    "try:\n",
    "    d={\"key1\":\"sudh\",\"key2\":[1,2,3,4],\"key3\":(4,5,6,7)}\n",
    "    d[\"key4\"]=int(input())\n",
    "except ValueError as ex:\n",
    "    print(ex)\n"
   ]
  },
  {
   "cell_type": "code",
   "execution_count": 4,
   "id": "4cad1c49",
   "metadata": {},
   "outputs": [
    {
     "name": "stdout",
     "output_type": "stream",
     "text": [
      "123\n"
     ]
    },
    {
     "ename": "FileNotFoundError",
     "evalue": "[Errno 2] No such file or directory: 'xyz.txt'",
     "output_type": "error",
     "traceback": [
      "\u001b[1;31m---------------------------------------------------------------------------\u001b[0m",
      "\u001b[1;31mFileNotFoundError\u001b[0m                         Traceback (most recent call last)",
      "\u001b[1;32m~\\AppData\\Local\\Temp/ipykernel_17940/3928562881.py\u001b[0m in \u001b[0;36m<module>\u001b[1;34m\u001b[0m\n\u001b[0;32m      2\u001b[0m     \u001b[0md\u001b[0m\u001b[1;33m=\u001b[0m\u001b[1;33m{\u001b[0m\u001b[1;34m\"key1\"\u001b[0m\u001b[1;33m:\u001b[0m\u001b[1;34m\"sudh\"\u001b[0m\u001b[1;33m,\u001b[0m\u001b[1;34m\"key2\"\u001b[0m\u001b[1;33m:\u001b[0m\u001b[1;33m[\u001b[0m\u001b[1;36m1\u001b[0m\u001b[1;33m,\u001b[0m\u001b[1;36m2\u001b[0m\u001b[1;33m,\u001b[0m\u001b[1;36m3\u001b[0m\u001b[1;33m,\u001b[0m\u001b[1;36m4\u001b[0m\u001b[1;33m]\u001b[0m\u001b[1;33m,\u001b[0m\u001b[1;34m\"key3\"\u001b[0m\u001b[1;33m:\u001b[0m\u001b[1;33m(\u001b[0m\u001b[1;36m4\u001b[0m\u001b[1;33m,\u001b[0m\u001b[1;36m5\u001b[0m\u001b[1;33m,\u001b[0m\u001b[1;36m6\u001b[0m\u001b[1;33m,\u001b[0m\u001b[1;36m7\u001b[0m\u001b[1;33m)\u001b[0m\u001b[1;33m}\u001b[0m\u001b[1;33m\u001b[0m\u001b[1;33m\u001b[0m\u001b[0m\n\u001b[0;32m      3\u001b[0m     \u001b[0md\u001b[0m\u001b[1;33m[\u001b[0m\u001b[1;34m\"key4\"\u001b[0m\u001b[1;33m]\u001b[0m\u001b[1;33m=\u001b[0m\u001b[0mint\u001b[0m\u001b[1;33m(\u001b[0m\u001b[0minput\u001b[0m\u001b[1;33m(\u001b[0m\u001b[1;33m)\u001b[0m\u001b[1;33m)\u001b[0m\u001b[1;33m\u001b[0m\u001b[1;33m\u001b[0m\u001b[0m\n\u001b[1;32m----> 4\u001b[1;33m     \u001b[0mf\u001b[0m\u001b[1;33m=\u001b[0m\u001b[0mopen\u001b[0m\u001b[1;33m(\u001b[0m\u001b[1;34m\"xyz.txt\"\u001b[0m\u001b[1;33m,\u001b[0m\u001b[1;34m\"r\"\u001b[0m\u001b[1;33m)\u001b[0m\u001b[1;33m\u001b[0m\u001b[1;33m\u001b[0m\u001b[0m\n\u001b[0m\u001b[0;32m      5\u001b[0m \u001b[1;32mexcept\u001b[0m \u001b[0mValueError\u001b[0m \u001b[1;32mas\u001b[0m \u001b[0mex\u001b[0m\u001b[1;33m:\u001b[0m\u001b[1;33m\u001b[0m\u001b[1;33m\u001b[0m\u001b[0m\n\u001b[0;32m      6\u001b[0m     \u001b[0mprint\u001b[0m\u001b[1;33m(\u001b[0m\u001b[0mex\u001b[0m\u001b[1;33m)\u001b[0m\u001b[1;33m\u001b[0m\u001b[1;33m\u001b[0m\u001b[0m\n",
      "\u001b[1;31mFileNotFoundError\u001b[0m: [Errno 2] No such file or directory: 'xyz.txt'"
     ]
    }
   ],
   "source": [
    "#Error is not handled if subset of exception class is used. ONly specifc error will be handled by subset classes.\n",
    "#As we used valueerror class to handle only value error instead of file not found error, thats why below error is not handled.\n",
    "#To resolve that issue either use super exception class (i.e. Exception) or use specific class which can handle file not found error\n",
    "try:\n",
    "    d={\"key1\":\"sudh\",\"key2\":[1,2,3,4],\"key3\":(4,5,6,7)}\n",
    "    d[\"key4\"]=int(input())\n",
    "    f=open(\"xyz.txt\",\"r\")\n",
    "except ValueError as ex:\n",
    "    print(ex)\n"
   ]
  },
  {
   "cell_type": "code",
   "execution_count": 5,
   "id": "bd713ef0",
   "metadata": {},
   "outputs": [
    {
     "name": "stdout",
     "output_type": "stream",
     "text": [
      "123\n",
      "[Errno 2] No such file or directory: 'xyz.txt'\n"
     ]
    }
   ],
   "source": [
    "try:\n",
    "    d={\"key1\":\"sudh\",\"key2\":[1,2,3,4],\"key3\":(4,5,6,7)}\n",
    "    d[\"key4\"]=int(input())\n",
    "    f=open(\"xyz.txt\",\"r\")\n",
    "except Exception as ex:\n",
    "    print(ex)"
   ]
  },
  {
   "cell_type": "code",
   "execution_count": 7,
   "id": "89b7389b",
   "metadata": {},
   "outputs": [
    {
     "name": "stdout",
     "output_type": "stream",
     "text": [
      "123\n",
      "File Not Found -  [Errno 2] No such file or directory: 'xyz.txt'\n"
     ]
    }
   ],
   "source": [
    "try:\n",
    "    d={\"key1\":\"sudh\",\"key2\":[1,2,3,4],\"key3\":(4,5,6,7)}\n",
    "    d[\"key4\"]=int(input())\n",
    "    f=open(\"xyz.txt\",\"r\")\n",
    "except ValueError as ex:\n",
    "    print(ex)\n",
    "except FileNotFoundError as ex:\n",
    "    print(\"File Not Found - \",ex)"
   ]
  },
  {
   "cell_type": "code",
   "execution_count": 9,
   "id": "48a59775",
   "metadata": {},
   "outputs": [
    {
     "name": "stdout",
     "output_type": "stream",
     "text": [
      "123\n",
      "Handled by Exception Super class -  [Errno 2] No such file or directory: 'xyz.txt'\n"
     ]
    }
   ],
   "source": [
    "try:\n",
    "    d={\"key1\":\"sudh\",\"key2\":[1,2,3,4],\"key3\":(4,5,6,7)}\n",
    "    d[\"key4\"]=int(input())\n",
    "    f=open(\"xyz.txt\",\"r\")\n",
    "except Exception as ex:\n",
    "    print(\"Handled by Exception Super class - \",ex)\n",
    "except ValueError as ex:\n",
    "    print(ex)\n",
    "except FileNotFoundError as ex:\n",
    "    print(\"File Not Found - \",ex)"
   ]
  },
  {
   "cell_type": "code",
   "execution_count": 10,
   "id": "27d5b31c",
   "metadata": {},
   "outputs": [
    {
     "name": "stdout",
     "output_type": "stream",
     "text": [
      "123\n",
      "Handled By File Not Found -  [Errno 2] No such file or directory: 'xyz.txt'\n"
     ]
    }
   ],
   "source": [
    "try:\n",
    "    d={\"key1\":\"sudh\",\"key2\":[1,2,3,4],\"key3\":(4,5,6,7)}\n",
    "    d[\"key4\"]=int(input())\n",
    "    f=open(\"xyz.txt\",\"r\")\n",
    "except ValueError as ex:\n",
    "    print(ex)\n",
    "except FileNotFoundError as ex:\n",
    "    print(\"Handled By File Not Found - \",ex)\n",
    "except Exception as ex:\n",
    "    print(\"Handled by Exception Super class - \",ex)"
   ]
  },
  {
   "cell_type": "code",
   "execution_count": 11,
   "id": "52006b9f",
   "metadata": {},
   "outputs": [
    {
     "name": "stdout",
     "output_type": "stream",
     "text": [
      "this will execute once my try block is executed successfully\n"
     ]
    }
   ],
   "source": [
    "try:\n",
    "    f=open(\"exception.txt\",\"w\")\n",
    "    f.write(\"this is my line into exception file\")\n",
    "except Exception as e:\n",
    "    print(\"error occurred\")\n",
    "else:\n",
    "    print(\"this will execute once my try block is executed successfully\")\n",
    "    f.close()"
   ]
  },
  {
   "cell_type": "code",
   "execution_count": 12,
   "id": "be149019",
   "metadata": {},
   "outputs": [
    {
     "name": "stdout",
     "output_type": "stream",
     "text": [
      "error occurred\n"
     ]
    }
   ],
   "source": [
    "try:\n",
    "    f=open(\"exception1.txt\",\"r\")\n",
    "    f.write(\"this is my line into exception file\")\n",
    "except Exception as e:\n",
    "    print(\"error occurred\")\n",
    "else:\n",
    "    print(\"this will execute once my try block is executed successfully\")\n",
    "    f.close()"
   ]
  },
  {
   "cell_type": "code",
   "execution_count": 13,
   "id": "f2097963",
   "metadata": {},
   "outputs": [
    {
     "name": "stdout",
     "output_type": "stream",
     "text": [
      "error occurred\n",
      "this will execute always\n"
     ]
    }
   ],
   "source": [
    "try:\n",
    "    f=open(\"exception1.txt\",\"r\")\n",
    "    f.write(\"this is my line into exception file\")\n",
    "except Exception as e:\n",
    "    print(\"error occurred\")\n",
    "finally:\n",
    "    print(\"this will execute always\")\n",
    "    f.close()"
   ]
  },
  {
   "cell_type": "code",
   "execution_count": 14,
   "id": "19a1d099",
   "metadata": {},
   "outputs": [
    {
     "name": "stdout",
     "output_type": "stream",
     "text": [
      "error occurred\n",
      "this will execute always\n"
     ]
    }
   ],
   "source": [
    "try:\n",
    "    f=open(\"exception1.txt\",\"r\")\n",
    "    f.write(\"this is my line into exception file\")\n",
    "except Exception as e:\n",
    "    print(\"error occurred\")\n",
    "else:\n",
    "    print(\"this will execute once my try block is executed successfully\")\n",
    "    f.close()\n",
    "finally:\n",
    "    print(\"this will execute always\")\n",
    "    f.close()"
   ]
  },
  {
   "cell_type": "code",
   "execution_count": 15,
   "id": "8bae33f9",
   "metadata": {},
   "outputs": [
    {
     "name": "stdout",
     "output_type": "stream",
     "text": [
      "this will execute once my try block is executed successfully\n",
      "this will execute always\n"
     ]
    }
   ],
   "source": [
    "try:\n",
    "    f=open(\"exception1.txt\",\"w\")\n",
    "    f.write(\"this is my line into exception file\")\n",
    "except Exception as e:\n",
    "    print(\"error occurred\")\n",
    "else:\n",
    "    print(\"this will execute once my try block is executed successfully\")\n",
    "finally:\n",
    "    print(\"this will execute always\")\n",
    "    f.close()"
   ]
  },
  {
   "cell_type": "code",
   "execution_count": 16,
   "id": "8fdecd1f",
   "metadata": {},
   "outputs": [],
   "source": [
    "def askint():\n",
    "    a=int(input())\n",
    "    return a"
   ]
  },
  {
   "cell_type": "code",
   "execution_count": 18,
   "id": "197bf1e7",
   "metadata": {},
   "outputs": [
    {
     "name": "stdout",
     "output_type": "stream",
     "text": [
      "2\n"
     ]
    },
    {
     "data": {
      "text/plain": [
       "2"
      ]
     },
     "execution_count": 18,
     "metadata": {},
     "output_type": "execute_result"
    }
   ],
   "source": [
    "askint()"
   ]
  },
  {
   "cell_type": "code",
   "execution_count": null,
   "id": "0a034e26",
   "metadata": {},
   "outputs": [],
   "source": []
  },
  {
   "cell_type": "code",
   "execution_count": null,
   "id": "3ab5585c",
   "metadata": {},
   "outputs": [],
   "source": []
  }
 ],
 "metadata": {
  "kernelspec": {
   "display_name": "Python 3 (ipykernel)",
   "language": "python",
   "name": "python3"
  },
  "language_info": {
   "codemirror_mode": {
    "name": "ipython",
    "version": 3
   },
   "file_extension": ".py",
   "mimetype": "text/x-python",
   "name": "python",
   "nbconvert_exporter": "python",
   "pygments_lexer": "ipython3",
   "version": "3.9.7"
  }
 },
 "nbformat": 4,
 "nbformat_minor": 5
}
