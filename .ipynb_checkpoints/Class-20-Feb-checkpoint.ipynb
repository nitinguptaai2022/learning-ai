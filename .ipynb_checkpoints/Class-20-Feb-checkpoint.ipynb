{
 "cells": [
  {
   "cell_type": "code",
   "execution_count": 1,
   "id": "4a130a99",
   "metadata": {},
   "outputs": [],
   "source": [
    "import sqlite3"
   ]
  },
  {
   "cell_type": "code",
   "execution_count": 2,
   "id": "e614cd1c",
   "metadata": {},
   "outputs": [],
   "source": [
    "db = sqlite3.connect(\"ineuron.db\")"
   ]
  },
  {
   "cell_type": "code",
   "execution_count": 3,
   "id": "8ce8a06b",
   "metadata": {},
   "outputs": [
    {
     "name": "stdout",
     "output_type": "stream",
     "text": [
      " Volume in drive C is Windows\n",
      " Volume Serial Number is 182B-EBD8\n",
      "\n",
      " Directory of C:\\Users\\ngupta\\classes-ai\n",
      "\n",
      "20-02-2022  10:31    <DIR>          .\n",
      "20-02-2022  10:31    <DIR>          ..\n",
      "20-02-2022  10:19    <DIR>          .ipynb_checkpoints\n",
      "19-02-2022  18:15            15,508 Class-1.ipynb\n",
      "20-02-2022  09:59            11,739 Class-2.ipynb\n",
      "20-02-2022  10:31               924 Class-20-Feb.ipynb\n",
      "20-02-2022  10:30                 0 ineuron.db\n",
      "               4 File(s)         28,171 bytes\n",
      "               3 Dir(s)  38,735,482,880 bytes free\n"
     ]
    }
   ],
   "source": [
    "ls"
   ]
  },
  {
   "cell_type": "code",
   "execution_count": 4,
   "id": "dec1d8db",
   "metadata": {},
   "outputs": [],
   "source": [
    "c = db.cursor()"
   ]
  },
  {
   "cell_type": "code",
   "execution_count": 5,
   "id": "0b5a3802",
   "metadata": {},
   "outputs": [
    {
     "data": {
      "text/plain": [
       "<sqlite3.Cursor at 0x1cb4ee75260>"
      ]
     },
     "execution_count": 5,
     "metadata": {},
     "output_type": "execute_result"
    }
   ],
   "source": [
    "c.execute('create table batch(name text, batchid int, marks real)')"
   ]
  },
  {
   "cell_type": "code",
   "execution_count": 10,
   "id": "adbaf34c",
   "metadata": {},
   "outputs": [
    {
     "data": {
      "text/plain": [
       "<sqlite3.Cursor at 0x1cb4ee75260>"
      ]
     },
     "execution_count": 10,
     "metadata": {},
     "output_type": "execute_result"
    }
   ],
   "source": [
    "c.execute(\"insert into batch values('sudh',2435,454.35)\")"
   ]
  },
  {
   "cell_type": "code",
   "execution_count": 11,
   "id": "eb2dbe31",
   "metadata": {},
   "outputs": [
    {
     "data": {
      "text/plain": [
       "<sqlite3.Cursor at 0x1cb4ee75260>"
      ]
     },
     "execution_count": 11,
     "metadata": {},
     "output_type": "execute_result"
    }
   ],
   "source": [
    "c.execute(\"select * from batch\")"
   ]
  },
  {
   "cell_type": "code",
   "execution_count": 20,
   "id": "4c35754d",
   "metadata": {},
   "outputs": [],
   "source": [
    "data = c.execute(\"select * from batch\")"
   ]
  },
  {
   "cell_type": "code",
   "execution_count": 21,
   "id": "fa2646e9",
   "metadata": {},
   "outputs": [
    {
     "name": "stdout",
     "output_type": "stream",
     "text": [
      "('sudh', 2435, 454.35)\n",
      "('sudh', 2435, 454.35)\n",
      "('sudh', 2435, 454.35)\n",
      "('sudh', 2435, 454.35)\n"
     ]
    }
   ],
   "source": [
    "for j in data: print (i)"
   ]
  },
  {
   "cell_type": "code",
   "execution_count": 22,
   "id": "c35ace3e",
   "metadata": {},
   "outputs": [],
   "source": [
    "db.commit()"
   ]
  },
  {
   "cell_type": "code",
   "execution_count": 23,
   "id": "79e354cc",
   "metadata": {},
   "outputs": [],
   "source": [
    "db.close()"
   ]
  },
  {
   "cell_type": "code",
   "execution_count": 24,
   "id": "5532eefd",
   "metadata": {},
   "outputs": [],
   "source": [
    "db = sqlite3.connect(\"ineuron.db\")"
   ]
  },
  {
   "cell_type": "code",
   "execution_count": 25,
   "id": "90fe50af",
   "metadata": {},
   "outputs": [],
   "source": [
    "c=db.cursor()"
   ]
  },
  {
   "cell_type": "code",
   "execution_count": 26,
   "id": "d2ad29c1",
   "metadata": {},
   "outputs": [],
   "source": [
    "data = c.execute(\"select * from batch where marks>400\")"
   ]
  },
  {
   "cell_type": "code",
   "execution_count": 27,
   "id": "33ca2504",
   "metadata": {},
   "outputs": [
    {
     "name": "stdout",
     "output_type": "stream",
     "text": [
      "('sudh', 2435, 454.35)\n",
      "('sudh', 2435, 454.35)\n",
      "('sudh', 2435, 454.35)\n",
      "('sudh', 2435, 454.35)\n"
     ]
    }
   ],
   "source": [
    "for i in data: print (i)"
   ]
  },
  {
   "cell_type": "code",
   "execution_count": 28,
   "id": "027946af",
   "metadata": {},
   "outputs": [],
   "source": [
    "data = c.execute(\"select * from batch where name = 'sudh'\")"
   ]
  },
  {
   "cell_type": "code",
   "execution_count": 29,
   "id": "bb7d396d",
   "metadata": {},
   "outputs": [
    {
     "name": "stdout",
     "output_type": "stream",
     "text": [
      "('sudh', 2435, 454.35)\n",
      "('sudh', 2435, 454.35)\n",
      "('sudh', 2435, 454.35)\n",
      "('sudh', 2435, 454.35)\n"
     ]
    }
   ],
   "source": [
    "for i in data: print(i)"
   ]
  },
  {
   "cell_type": "code",
   "execution_count": 30,
   "id": "7180b1b8",
   "metadata": {},
   "outputs": [],
   "source": [
    "data = c.execute(\"select name, marks from batch\")"
   ]
  },
  {
   "cell_type": "code",
   "execution_count": 31,
   "id": "42f8de3b",
   "metadata": {},
   "outputs": [
    {
     "name": "stdout",
     "output_type": "stream",
     "text": [
      "('sudh', 454.35)\n",
      "('sudh', 454.35)\n",
      "('sudh', 454.35)\n",
      "('sudh', 454.35)\n"
     ]
    }
   ],
   "source": [
    "for i in data : print(i)"
   ]
  },
  {
   "cell_type": "code",
   "execution_count": 32,
   "id": "c471eee8",
   "metadata": {},
   "outputs": [],
   "source": [
    "data = c.execute(\"select name, marks from batch order by marks\")"
   ]
  },
  {
   "cell_type": "code",
   "execution_count": 33,
   "id": "604aae91",
   "metadata": {},
   "outputs": [
    {
     "name": "stdout",
     "output_type": "stream",
     "text": [
      "('sudh', 454.35)\n",
      "('sudh', 454.35)\n",
      "('sudh', 454.35)\n",
      "('sudh', 454.35)\n"
     ]
    }
   ],
   "source": [
    "for i in data: print(i)"
   ]
  },
  {
   "cell_type": "code",
   "execution_count": 34,
   "id": "462a5013",
   "metadata": {},
   "outputs": [],
   "source": [
    "db.close()"
   ]
  },
  {
   "cell_type": "code",
   "execution_count": 36,
   "id": "7a9754bb",
   "metadata": {},
   "outputs": [],
   "source": [
    "db=sqlite3.connect(\"india.db\")"
   ]
  },
  {
   "cell_type": "code",
   "execution_count": 37,
   "id": "95c07858",
   "metadata": {},
   "outputs": [],
   "source": [
    "c=db.cursor()"
   ]
  },
  {
   "cell_type": "code",
   "execution_count": 38,
   "id": "22bdce04",
   "metadata": {},
   "outputs": [
    {
     "data": {
      "text/plain": [
       "<sqlite3.Cursor at 0x1cb4eca3ea0>"
      ]
     },
     "execution_count": 38,
     "metadata": {},
     "output_type": "execute_result"
    }
   ],
   "source": [
    "c.execute(\"create table person(name text, emailid text, age int, salary real)\")"
   ]
  },
  {
   "cell_type": "code",
   "execution_count": 39,
   "id": "912337bb",
   "metadata": {},
   "outputs": [
    {
     "name": "stdout",
     "output_type": "stream",
     "text": [
      " Volume in drive C is Windows\n",
      " Volume Serial Number is 182B-EBD8\n",
      "\n",
      " Directory of C:\\Users\\ngupta\\classes-ai\n",
      "\n",
      "20-02-2022  10:55    <DIR>          .\n",
      "20-02-2022  10:55    <DIR>          ..\n",
      "20-02-2022  10:19    <DIR>          .ipynb_checkpoints\n",
      "19-02-2022  18:15            15,508 Class-1.ipynb\n",
      "20-02-2022  09:59            11,739 Class-2.ipynb\n",
      "20-02-2022  10:55             7,460 Class-20-Feb.ipynb\n",
      "20-02-2022  10:55             8,192 india.db\n",
      "20-02-2022  10:44             8,192 ineuron.db\n",
      "               5 File(s)         51,091 bytes\n",
      "               3 Dir(s)  38,736,732,160 bytes free\n"
     ]
    }
   ],
   "source": [
    "ls"
   ]
  },
  {
   "cell_type": "code",
   "execution_count": 40,
   "id": "5e5cfeec",
   "metadata": {},
   "outputs": [
    {
     "data": {
      "text/plain": [
       "<sqlite3.Cursor at 0x1cb4eca3ea0>"
      ]
     },
     "execution_count": 40,
     "metadata": {},
     "output_type": "execute_result"
    }
   ],
   "source": [
    "c.execute(\"insert into person values('sudh','sudh@gmail.com',234,454.35)\")\n",
    "c.execute(\"insert into person values('prashant','prashant@gmail.com',345,345.35)\")\n",
    "c.execute(\"insert into person values('krsih','krsih@gmail.com',565,35.35)\")\n",
    "c.execute(\"insert into person values('sunny','sunny@gmail.com',567,454.35)\")"
   ]
  },
  {
   "cell_type": "code",
   "execution_count": 41,
   "id": "28b98f7d",
   "metadata": {},
   "outputs": [],
   "source": [
    "data = c.execute(\"select * from person\")"
   ]
  },
  {
   "cell_type": "code",
   "execution_count": 42,
   "id": "14da72a4",
   "metadata": {},
   "outputs": [
    {
     "name": "stdout",
     "output_type": "stream",
     "text": [
      "('sudh', 'sudh@gmail.com', 234, 454.35)\n",
      "('prashant', 'prashant@gmail.com', 345, 345.35)\n",
      "('krsih', 'krsih@gmail.com', 565, 35.35)\n",
      "('sunny', 'sunny@gmail.com', 567, 454.35)\n"
     ]
    }
   ],
   "source": [
    "for i in data: print(i)"
   ]
  },
  {
   "cell_type": "code",
   "execution_count": 43,
   "id": "d8c8745b",
   "metadata": {},
   "outputs": [
    {
     "data": {
      "text/plain": [
       "<sqlite3.Cursor at 0x1cb4eca3ea0>"
      ]
     },
     "execution_count": 43,
     "metadata": {},
     "output_type": "execute_result"
    }
   ],
   "source": [
    "c.execute(\"create table sampletable(name text, emailid text, age int, salary real)\")"
   ]
  },
  {
   "cell_type": "code",
   "execution_count": 45,
   "id": "5ebd0f9f",
   "metadata": {},
   "outputs": [
    {
     "data": {
      "text/plain": [
       "<sqlite3.Cursor at 0x1cb4eca3ea0>"
      ]
     },
     "execution_count": 45,
     "metadata": {},
     "output_type": "execute_result"
    }
   ],
   "source": [
    "c.execute(\"insert into sampletable values('sudh','sudh@gmail.com',234,454.35)\")\n",
    "c.execute(\"insert into sampletable values('prashant','prashant@gmail.com',345,345.35)\")\n",
    "c.execute(\"insert into sampletable values('krsih','krsih@gmail.com',565,35.35)\")\n",
    "c.execute(\"insert into sampletable values('sunny','sunny@gmail.com',567,454.35)\")"
   ]
  },
  {
   "cell_type": "code",
   "execution_count": 46,
   "id": "c3f2012b",
   "metadata": {},
   "outputs": [],
   "source": [
    "db.commit()"
   ]
  },
  {
   "cell_type": "code",
   "execution_count": 47,
   "id": "6e4b44e0",
   "metadata": {},
   "outputs": [],
   "source": [
    "db.close()"
   ]
  },
  {
   "cell_type": "code",
   "execution_count": 48,
   "id": "45ec681e",
   "metadata": {},
   "outputs": [],
   "source": [
    "db=sqlite3.connect(\"india.db\")"
   ]
  },
  {
   "cell_type": "code",
   "execution_count": 49,
   "id": "29dc21c9",
   "metadata": {},
   "outputs": [],
   "source": [
    "c=db.cursor()"
   ]
  },
  {
   "cell_type": "code",
   "execution_count": 51,
   "id": "d8070c0a",
   "metadata": {},
   "outputs": [],
   "source": [
    "data = c.execute(\"select * from sampletable\")"
   ]
  },
  {
   "cell_type": "code",
   "execution_count": 52,
   "id": "c3590ff1",
   "metadata": {},
   "outputs": [
    {
     "name": "stdout",
     "output_type": "stream",
     "text": [
      "('sudh', 'sudh@gmail.com', 234, 454.35)\n",
      "('prashant', 'prashant@gmail.com', 345, 345.35)\n",
      "('krsih', 'krsih@gmail.com', 565, 35.35)\n",
      "('sunny', 'sunny@gmail.com', 567, 454.35)\n"
     ]
    }
   ],
   "source": [
    "for i in data: print(i)"
   ]
  },
  {
   "cell_type": "code",
   "execution_count": 53,
   "id": "ffd73f44",
   "metadata": {},
   "outputs": [
    {
     "data": {
      "text/plain": [
       "<sqlite3.Cursor at 0x1cb4ed5f110>"
      ]
     },
     "execution_count": 53,
     "metadata": {},
     "output_type": "execute_result"
    }
   ],
   "source": [
    "c.execute(\"drop table sampletable\")"
   ]
  },
  {
   "cell_type": "code",
   "execution_count": 54,
   "id": "24e21ab5",
   "metadata": {},
   "outputs": [
    {
     "ename": "OperationalError",
     "evalue": "no such table: sampletable",
     "output_type": "error",
     "traceback": [
      "\u001b[1;31m---------------------------------------------------------------------------\u001b[0m",
      "\u001b[1;31mOperationalError\u001b[0m                          Traceback (most recent call last)",
      "\u001b[1;32m~\\AppData\\Local\\Temp/ipykernel_26800/4046653271.py\u001b[0m in \u001b[0;36m<module>\u001b[1;34m\u001b[0m\n\u001b[1;32m----> 1\u001b[1;33m \u001b[0mdata\u001b[0m \u001b[1;33m=\u001b[0m \u001b[0mc\u001b[0m\u001b[1;33m.\u001b[0m\u001b[0mexecute\u001b[0m\u001b[1;33m(\u001b[0m\u001b[1;34m\"select * from sampletable\"\u001b[0m\u001b[1;33m)\u001b[0m\u001b[1;33m\u001b[0m\u001b[1;33m\u001b[0m\u001b[0m\n\u001b[0m",
      "\u001b[1;31mOperationalError\u001b[0m: no such table: sampletable"
     ]
    }
   ],
   "source": [
    "data = c.execute(\"select * from sampletable\")"
   ]
  },
  {
   "cell_type": "code",
   "execution_count": 55,
   "id": "6dab181b",
   "metadata": {},
   "outputs": [],
   "source": [
    "db.close()"
   ]
  },
  {
   "cell_type": "code",
   "execution_count": 56,
   "id": "dae14fac",
   "metadata": {},
   "outputs": [],
   "source": [
    "db=sqlite3.connect(\"india.db\")"
   ]
  },
  {
   "cell_type": "code",
   "execution_count": 57,
   "id": "8b729b95",
   "metadata": {},
   "outputs": [],
   "source": [
    "c=db.cursor()"
   ]
  },
  {
   "cell_type": "code",
   "execution_count": 59,
   "id": "aec74646",
   "metadata": {},
   "outputs": [],
   "source": [
    "data = c.execute(\"select * from person limit 2\")"
   ]
  },
  {
   "cell_type": "code",
   "execution_count": 60,
   "id": "b8b2d2ac",
   "metadata": {},
   "outputs": [
    {
     "name": "stdout",
     "output_type": "stream",
     "text": [
      "('sudh', 'sudh@gmail.com', 234, 454.35)\n",
      "('prashant', 'prashant@gmail.com', 345, 345.35)\n"
     ]
    }
   ],
   "source": [
    "for i in data: print(i)"
   ]
  },
  {
   "cell_type": "code",
   "execution_count": 61,
   "id": "5602773c",
   "metadata": {},
   "outputs": [],
   "source": [
    "db.close()"
   ]
  },
  {
   "cell_type": "code",
   "execution_count": 62,
   "id": "c62df6d4",
   "metadata": {},
   "outputs": [],
   "source": [
    "db=sqlite3.connect(\"joindb.db\")"
   ]
  },
  {
   "cell_type": "code",
   "execution_count": 63,
   "id": "0f77bb6f",
   "metadata": {},
   "outputs": [],
   "source": [
    "c=db.cursor()"
   ]
  },
  {
   "cell_type": "code",
   "execution_count": 64,
   "id": "ded43897",
   "metadata": {},
   "outputs": [
    {
     "data": {
      "text/plain": [
       "<sqlite3.Cursor at 0x1cb4ed5f9d0>"
      ]
     },
     "execution_count": 64,
     "metadata": {},
     "output_type": "execute_result"
    }
   ],
   "source": [
    "c.execute('create table student(student_id int, student_name text, student_mailid text, marks int)')"
   ]
  },
  {
   "cell_type": "code",
   "execution_count": 65,
   "id": "8f060242",
   "metadata": {},
   "outputs": [
    {
     "data": {
      "text/plain": [
       "<sqlite3.Cursor at 0x1cb4ed5f9d0>"
      ]
     },
     "execution_count": 65,
     "metadata": {},
     "output_type": "execute_result"
    }
   ],
   "source": [
    "c.execute('create table address(student_id int, pincode int, location text, nearby text, phone_no int)')"
   ]
  },
  {
   "cell_type": "code",
   "execution_count": 66,
   "id": "36c5983f",
   "metadata": {},
   "outputs": [
    {
     "data": {
      "text/plain": [
       "<sqlite3.Cursor at 0x1cb4ed5f9d0>"
      ]
     },
     "execution_count": 66,
     "metadata": {},
     "output_type": "execute_result"
    }
   ],
   "source": [
    "c.execute(\"insert into student values(1, 'sudh','sudh@gmail.com',234)\")\n",
    "c.execute(\"insert into student values(2, 'prashant','prashant@gmail.com',345)\")\n",
    "c.execute(\"insert into student values(3, 'krish','krish@gmail.com',565)\")\n",
    "c.execute(\"insert into student values(4, 'sunny','sunny@gmail.com',567)\")"
   ]
  },
  {
   "cell_type": "code",
   "execution_count": 67,
   "id": "7e2b00cd",
   "metadata": {},
   "outputs": [
    {
     "data": {
      "text/plain": [
       "<sqlite3.Cursor at 0x1cb4ed5f9d0>"
      ]
     },
     "execution_count": 67,
     "metadata": {},
     "output_type": "execute_result"
    }
   ],
   "source": [
    "c.execute(\"insert into address values(2, 110002,'North Delhi','Rohini', 9800000002)\")\n",
    "c.execute(\"insert into address values(4, 110004,'Suth deplhi','Saket', 9800000004)\")"
   ]
  },
  {
   "cell_type": "code",
   "execution_count": 68,
   "id": "4cadaa5d",
   "metadata": {},
   "outputs": [],
   "source": [
    "data = c.execute(\"select * from student s inner join address a on s.student_id=a.student_id\")"
   ]
  },
  {
   "cell_type": "code",
   "execution_count": 69,
   "id": "36c8e04d",
   "metadata": {},
   "outputs": [
    {
     "name": "stdout",
     "output_type": "stream",
     "text": [
      "(2, 'prashant', 'prashant@gmail.com', 345, 2, 110002, 'North Delhi', 'Rohini', 9800000002)\n",
      "(4, 'sunny', 'sunny@gmail.com', 567, 4, 110004, 'Suth deplhi', 'Saket', 9800000004)\n"
     ]
    }
   ],
   "source": [
    "for i in data: print(i)"
   ]
  },
  {
   "cell_type": "code",
   "execution_count": 70,
   "id": "41be38c4",
   "metadata": {},
   "outputs": [],
   "source": [
    "data = c.execute(\"select * from student s left join address a on s.student_id=a.student_id\")"
   ]
  },
  {
   "cell_type": "code",
   "execution_count": 71,
   "id": "dbe13563",
   "metadata": {},
   "outputs": [
    {
     "name": "stdout",
     "output_type": "stream",
     "text": [
      "(1, 'sudh', 'sudh@gmail.com', 234, None, None, None, None, None)\n",
      "(2, 'prashant', 'prashant@gmail.com', 345, 2, 110002, 'North Delhi', 'Rohini', 9800000002)\n",
      "(3, 'krish', 'krish@gmail.com', 565, None, None, None, None, None)\n",
      "(4, 'sunny', 'sunny@gmail.com', 567, 4, 110004, 'Suth deplhi', 'Saket', 9800000004)\n"
     ]
    }
   ],
   "source": [
    "for i in data: print(i)"
   ]
  },
  {
   "cell_type": "code",
   "execution_count": 75,
   "id": "d7febadc",
   "metadata": {},
   "outputs": [],
   "source": [
    "data = c.execute(\"select * from student s left join address a on s.student_id=a.student_id where a.student_id is not null\")"
   ]
  },
  {
   "cell_type": "code",
   "execution_count": 76,
   "id": "f0620511",
   "metadata": {},
   "outputs": [
    {
     "name": "stdout",
     "output_type": "stream",
     "text": [
      "(2, 'prashant', 'prashant@gmail.com', 345, 2, 110002, 'North Delhi', 'Rohini', 9800000002)\n",
      "(4, 'sunny', 'sunny@gmail.com', 567, 4, 110004, 'Suth deplhi', 'Saket', 9800000004)\n"
     ]
    }
   ],
   "source": [
    "for i in data: print(i)"
   ]
  },
  {
   "cell_type": "code",
   "execution_count": 74,
   "id": "d37dbb39",
   "metadata": {},
   "outputs": [
    {
     "name": "stdout",
     "output_type": "stream",
     "text": [
      "(2, 'prashant', 'prashant@gmail.com', 345, 110002, 'North Delhi')\n",
      "(4, 'sunny', 'sunny@gmail.com', 567, 110004, 'Suth deplhi')\n"
     ]
    }
   ],
   "source": [
    "for i in c.execute(\"select s.*,a.pincode, a.location from student s join address a on s.student_id=a.student_id\"): print(i)"
   ]
  },
  {
   "cell_type": "code",
   "execution_count": 77,
   "id": "c9b2bba2",
   "metadata": {},
   "outputs": [
    {
     "name": "stdout",
     "output_type": "stream",
     "text": [
      "(2, 'prashant', 'prashant@gmail.com', 345, 110002, 'North Delhi')\n",
      "(4, 'sunny', 'sunny@gmail.com', 567, 110004, 'Suth deplhi')\n"
     ]
    }
   ],
   "source": [
    "for i in c.execute(\"select s.*,a.pincode, a.location from student s join address a on s.student_id=a.student_id\"): print(i)"
   ]
  },
  {
   "cell_type": "code",
   "execution_count": 78,
   "id": "4349c1f9",
   "metadata": {},
   "outputs": [
    {
     "ename": "OperationalError",
     "evalue": "RIGHT and FULL OUTER JOINs are not currently supported",
     "output_type": "error",
     "traceback": [
      "\u001b[1;31m---------------------------------------------------------------------------\u001b[0m",
      "\u001b[1;31mOperationalError\u001b[0m                          Traceback (most recent call last)",
      "\u001b[1;32m~\\AppData\\Local\\Temp/ipykernel_26800/2864477048.py\u001b[0m in \u001b[0;36m<module>\u001b[1;34m\u001b[0m\n\u001b[1;32m----> 1\u001b[1;33m \u001b[1;32mfor\u001b[0m \u001b[0mi\u001b[0m \u001b[1;32min\u001b[0m \u001b[0mc\u001b[0m\u001b[1;33m.\u001b[0m\u001b[0mexecute\u001b[0m\u001b[1;33m(\u001b[0m\u001b[1;34m\"select s.*,a.pincode, a.location from student s right join address a on s.student_id=a.student_id\"\u001b[0m\u001b[1;33m)\u001b[0m\u001b[1;33m:\u001b[0m \u001b[0mprint\u001b[0m\u001b[1;33m(\u001b[0m\u001b[0mi\u001b[0m\u001b[1;33m)\u001b[0m\u001b[1;33m\u001b[0m\u001b[1;33m\u001b[0m\u001b[0m\n\u001b[0m",
      "\u001b[1;31mOperationalError\u001b[0m: RIGHT and FULL OUTER JOINs are not currently supported"
     ]
    }
   ],
   "source": [
    "for i in c.execute(\"select s.*,a.pincode, a.location from student s right join address a on s.student_id=a.student_id\"): print(i)"
   ]
  },
  {
   "cell_type": "code",
   "execution_count": 80,
   "id": "96b7db73",
   "metadata": {},
   "outputs": [
    {
     "data": {
      "text/plain": [
       "<sqlite3.Cursor at 0x1cb4ed5f9d0>"
      ]
     },
     "execution_count": 80,
     "metadata": {},
     "output_type": "execute_result"
    }
   ],
   "source": [
    "c.execute(\"delete from student where student_id>2000\")"
   ]
  },
  {
   "cell_type": "code",
   "execution_count": 81,
   "id": "ffbaecb6",
   "metadata": {},
   "outputs": [
    {
     "name": "stdout",
     "output_type": "stream",
     "text": [
      "(1, 'sudh', 'sudh@gmail.com', 234)\n",
      "(2, 'prashant', 'prashant@gmail.com', 345)\n",
      "(3, 'krish', 'krish@gmail.com', 565)\n",
      "(4, 'sunny', 'sunny@gmail.com', 567)\n"
     ]
    }
   ],
   "source": [
    "for i in c.execute(\"select * from student\"): print(i)"
   ]
  },
  {
   "cell_type": "code",
   "execution_count": 82,
   "id": "78c45968",
   "metadata": {},
   "outputs": [],
   "source": [
    "data = c.execute(\"select * from student\")"
   ]
  },
  {
   "cell_type": "code",
   "execution_count": 83,
   "id": "1f0db0fe",
   "metadata": {},
   "outputs": [
    {
     "data": {
      "text/plain": [
       "[(1, 'sudh', 'sudh@gmail.com', 234),\n",
       " (2, 'prashant', 'prashant@gmail.com', 345),\n",
       " (3, 'krish', 'krish@gmail.com', 565),\n",
       " (4, 'sunny', 'sunny@gmail.com', 567)]"
      ]
     },
     "execution_count": 83,
     "metadata": {},
     "output_type": "execute_result"
    }
   ],
   "source": [
    "data.fetchall()"
   ]
  },
  {
   "cell_type": "code",
   "execution_count": 84,
   "id": "63f40109",
   "metadata": {},
   "outputs": [
    {
     "data": {
      "text/plain": [
       "<sqlite3.Cursor at 0x1cb4ed5f9d0>"
      ]
     },
     "execution_count": 84,
     "metadata": {},
     "output_type": "execute_result"
    }
   ],
   "source": [
    "c.execute(\"update student set student_id=2000 where student_id=236\")"
   ]
  },
  {
   "cell_type": "code",
   "execution_count": 86,
   "id": "7c95a31e",
   "metadata": {},
   "outputs": [],
   "source": [
    "l = [1, 2, 3, 4, 5, 6]"
   ]
  },
  {
   "cell_type": "code",
   "execution_count": 87,
   "id": "ae1deb1e",
   "metadata": {},
   "outputs": [],
   "source": [
    "l1=[]\n",
    "for i in l: l1.append(i+5)"
   ]
  },
  {
   "cell_type": "code",
   "execution_count": 88,
   "id": "111f745c",
   "metadata": {},
   "outputs": [
    {
     "data": {
      "text/plain": [
       "[6, 7, 8, 9, 10, 11]"
      ]
     },
     "execution_count": 88,
     "metadata": {},
     "output_type": "execute_result"
    }
   ],
   "source": [
    "l1"
   ]
  },
  {
   "cell_type": "code",
   "execution_count": 89,
   "id": "cec3ce15",
   "metadata": {},
   "outputs": [
    {
     "data": {
      "text/plain": [
       "[6, 7, 8, 9, 10, 11]"
      ]
     },
     "execution_count": 89,
     "metadata": {},
     "output_type": "execute_result"
    }
   ],
   "source": [
    "[i+5 for i in l]"
   ]
  },
  {
   "cell_type": "code",
   "execution_count": 90,
   "id": "22ea9153",
   "metadata": {},
   "outputs": [],
   "source": [
    "l = [1, 2, 3, 4, 5, 6]"
   ]
  },
  {
   "cell_type": "code",
   "execution_count": 92,
   "id": "8a4536d4",
   "metadata": {},
   "outputs": [],
   "source": [
    "def test(a): return a+5"
   ]
  },
  {
   "cell_type": "code",
   "execution_count": 93,
   "id": "e9ff2abe",
   "metadata": {},
   "outputs": [
    {
     "data": {
      "text/plain": [
       "<map at 0x1cb4e8ff070>"
      ]
     },
     "execution_count": 93,
     "metadata": {},
     "output_type": "execute_result"
    }
   ],
   "source": [
    "map(test, l)"
   ]
  },
  {
   "cell_type": "code",
   "execution_count": 94,
   "id": "2b9b2fe8",
   "metadata": {},
   "outputs": [
    {
     "data": {
      "text/plain": [
       "[6, 7, 8, 9, 10, 11]"
      ]
     },
     "execution_count": 94,
     "metadata": {},
     "output_type": "execute_result"
    }
   ],
   "source": [
    "list(map(test, l))"
   ]
  },
  {
   "cell_type": "code",
   "execution_count": 95,
   "id": "39d0fa25",
   "metadata": {},
   "outputs": [],
   "source": [
    "def test1(a): return a*3454+454"
   ]
  },
  {
   "cell_type": "code",
   "execution_count": 96,
   "id": "566e8d84",
   "metadata": {},
   "outputs": [
    {
     "data": {
      "text/plain": [
       "[3908, 7362, 10816, 14270, 17724, 21178]"
      ]
     },
     "execution_count": 96,
     "metadata": {},
     "output_type": "execute_result"
    }
   ],
   "source": [
    "list(map(test1, l))"
   ]
  },
  {
   "cell_type": "code",
   "execution_count": 97,
   "id": "a4ea3643",
   "metadata": {},
   "outputs": [],
   "source": [
    "l1=['234', '345','543','456','675']"
   ]
  },
  {
   "cell_type": "code",
   "execution_count": 98,
   "id": "5a138b15",
   "metadata": {},
   "outputs": [],
   "source": [
    "def casttest(a): return int(a)"
   ]
  },
  {
   "cell_type": "code",
   "execution_count": 99,
   "id": "392db35c",
   "metadata": {},
   "outputs": [
    {
     "data": {
      "text/plain": [
       "784"
      ]
     },
     "execution_count": 99,
     "metadata": {},
     "output_type": "execute_result"
    }
   ],
   "source": [
    "casttest(\"784\")"
   ]
  },
  {
   "cell_type": "code",
   "execution_count": 100,
   "id": "7277d489",
   "metadata": {},
   "outputs": [
    {
     "data": {
      "text/plain": [
       "[234, 345, 543, 456, 675]"
      ]
     },
     "execution_count": 100,
     "metadata": {},
     "output_type": "execute_result"
    }
   ],
   "source": [
    "list(map(casttest, l1))"
   ]
  },
  {
   "cell_type": "code",
   "execution_count": 102,
   "id": "9d50016b",
   "metadata": {},
   "outputs": [
    {
     "data": {
      "text/plain": [
       "[234, 345, 543, 456, 675]"
      ]
     },
     "execution_count": 102,
     "metadata": {},
     "output_type": "execute_result"
    }
   ],
   "source": [
    "list(map(lambda x:int(x),l1))"
   ]
  },
  {
   "cell_type": "code",
   "execution_count": 103,
   "id": "75621a18",
   "metadata": {},
   "outputs": [
    {
     "data": {
      "text/plain": [
       "[6, 7, 8, 9, 10, 11]"
      ]
     },
     "execution_count": 103,
     "metadata": {},
     "output_type": "execute_result"
    }
   ],
   "source": [
    "list(map(lambda x:x+5,l))"
   ]
  },
  {
   "cell_type": "code",
   "execution_count": 104,
   "id": "c1a55352",
   "metadata": {},
   "outputs": [],
   "source": [
    "l = list(map(lambda x:x+5,l))"
   ]
  },
  {
   "cell_type": "code",
   "execution_count": 105,
   "id": "93ac1e4c",
   "metadata": {},
   "outputs": [
    {
     "data": {
      "text/plain": [
       "[6, 7, 8, 9, 10, 11]"
      ]
     },
     "execution_count": 105,
     "metadata": {},
     "output_type": "execute_result"
    }
   ],
   "source": [
    "l"
   ]
  },
  {
   "cell_type": "code",
   "execution_count": 111,
   "id": "b350b59b",
   "metadata": {},
   "outputs": [
    {
     "data": {
      "text/plain": [
       "[6, 8, 10]"
      ]
     },
     "execution_count": 111,
     "metadata": {},
     "output_type": "execute_result"
    }
   ],
   "source": [
    "list(filter(lambda x:x%2==0, l))"
   ]
  },
  {
   "cell_type": "code",
   "execution_count": 112,
   "id": "63de5b40",
   "metadata": {},
   "outputs": [],
   "source": [
    "def test4(a): \n",
    "    if a%2==0:\n",
    "        return a"
   ]
  },
  {
   "cell_type": "code",
   "execution_count": 113,
   "id": "ef8f7d16",
   "metadata": {},
   "outputs": [
    {
     "data": {
      "text/plain": [
       "[6, None, 8, None, 10, None]"
      ]
     },
     "execution_count": 113,
     "metadata": {},
     "output_type": "execute_result"
    }
   ],
   "source": [
    "list(map(test4, l))"
   ]
  },
  {
   "cell_type": "code",
   "execution_count": 114,
   "id": "24e3a326",
   "metadata": {},
   "outputs": [
    {
     "data": {
      "text/plain": [
       "[6, 8, 10]"
      ]
     },
     "execution_count": 114,
     "metadata": {},
     "output_type": "execute_result"
    }
   ],
   "source": [
    "list(filter(test4, l))"
   ]
  },
  {
   "cell_type": "code",
   "execution_count": 115,
   "id": "c9d34a71",
   "metadata": {},
   "outputs": [
    {
     "data": {
      "text/plain": [
       "[6, 8, 10]"
      ]
     },
     "execution_count": 115,
     "metadata": {},
     "output_type": "execute_result"
    }
   ],
   "source": [
    "[i for i in l if i%2 ==0]"
   ]
  },
  {
   "cell_type": "code",
   "execution_count": 116,
   "id": "62b9406a",
   "metadata": {},
   "outputs": [
    {
     "data": {
      "text/plain": [
       "[6, 7, 8, 9, 10, 11]"
      ]
     },
     "execution_count": 116,
     "metadata": {},
     "output_type": "execute_result"
    }
   ],
   "source": [
    "l"
   ]
  },
  {
   "cell_type": "code",
   "execution_count": 117,
   "id": "25f776ea",
   "metadata": {},
   "outputs": [
    {
     "data": {
      "text/plain": [
       "[6, 7, 8, 9, 10, 11]"
      ]
     },
     "execution_count": 117,
     "metadata": {},
     "output_type": "execute_result"
    }
   ],
   "source": [
    "list(filter(lambda x:x+2, l))"
   ]
  },
  {
   "cell_type": "code",
   "execution_count": 118,
   "id": "c787a227",
   "metadata": {},
   "outputs": [],
   "source": [
    "from functools import reduce"
   ]
  },
  {
   "cell_type": "code",
   "execution_count": 120,
   "id": "d3692cee",
   "metadata": {},
   "outputs": [],
   "source": [
    "l=[3,4,5,6,7,8]"
   ]
  },
  {
   "cell_type": "code",
   "execution_count": 121,
   "id": "8ba7840d",
   "metadata": {},
   "outputs": [
    {
     "data": {
      "text/plain": [
       "33"
      ]
     },
     "execution_count": 121,
     "metadata": {},
     "output_type": "execute_result"
    }
   ],
   "source": [
    "sum(l)"
   ]
  },
  {
   "cell_type": "code",
   "execution_count": 128,
   "id": "ef371750",
   "metadata": {},
   "outputs": [],
   "source": [
    "def test5(a,b):\n",
    "    return a+b"
   ]
  },
  {
   "cell_type": "code",
   "execution_count": 129,
   "id": "67d6a97d",
   "metadata": {},
   "outputs": [
    {
     "data": {
      "text/plain": [
       "33"
      ]
     },
     "execution_count": 129,
     "metadata": {},
     "output_type": "execute_result"
    }
   ],
   "source": [
    "reduce(test5,l)"
   ]
  },
  {
   "cell_type": "code",
   "execution_count": 125,
   "id": "d8d5ccc5",
   "metadata": {},
   "outputs": [
    {
     "data": {
      "text/plain": [
       "33"
      ]
     },
     "execution_count": 125,
     "metadata": {},
     "output_type": "execute_result"
    }
   ],
   "source": [
    "reduce(lambda x, y:x+y,l)"
   ]
  },
  {
   "cell_type": "code",
   "execution_count": 130,
   "id": "2895ed74",
   "metadata": {},
   "outputs": [],
   "source": [
    "def test6(a,b):\n",
    "    return a*b"
   ]
  },
  {
   "cell_type": "code",
   "execution_count": 132,
   "id": "c6b28ea6",
   "metadata": {},
   "outputs": [
    {
     "data": {
      "text/plain": [
       "20160"
      ]
     },
     "execution_count": 132,
     "metadata": {},
     "output_type": "execute_result"
    }
   ],
   "source": [
    "reduce(test6,l)"
   ]
  },
  {
   "cell_type": "code",
   "execution_count": 133,
   "id": "fd4c1f8e",
   "metadata": {},
   "outputs": [
    {
     "data": {
      "text/plain": [
       "20160"
      ]
     },
     "execution_count": 133,
     "metadata": {},
     "output_type": "execute_result"
    }
   ],
   "source": [
    "reduce(lambda x, y:x*y,l)"
   ]
  },
  {
   "cell_type": "code",
   "execution_count": 134,
   "id": "7a0afa97",
   "metadata": {},
   "outputs": [
    {
     "ename": "TypeError",
     "evalue": "<lambda>() missing 1 required positional argument: 'c'",
     "output_type": "error",
     "traceback": [
      "\u001b[1;31m---------------------------------------------------------------------------\u001b[0m",
      "\u001b[1;31mTypeError\u001b[0m                                 Traceback (most recent call last)",
      "\u001b[1;32m~\\AppData\\Local\\Temp/ipykernel_26800/801334022.py\u001b[0m in \u001b[0;36m<module>\u001b[1;34m\u001b[0m\n\u001b[1;32m----> 1\u001b[1;33m \u001b[0mreduce\u001b[0m\u001b[1;33m(\u001b[0m\u001b[1;32mlambda\u001b[0m \u001b[0mx\u001b[0m\u001b[1;33m,\u001b[0m\u001b[0my\u001b[0m\u001b[1;33m,\u001b[0m\u001b[0mc\u001b[0m\u001b[1;33m:\u001b[0m\u001b[0mx\u001b[0m\u001b[1;33m*\u001b[0m\u001b[0my\u001b[0m\u001b[1;33m*\u001b[0m\u001b[0mc\u001b[0m\u001b[1;33m,\u001b[0m\u001b[0ml\u001b[0m\u001b[1;33m)\u001b[0m\u001b[1;33m\u001b[0m\u001b[1;33m\u001b[0m\u001b[0m\n\u001b[0m",
      "\u001b[1;31mTypeError\u001b[0m: <lambda>() missing 1 required positional argument: 'c'"
     ]
    }
   ],
   "source": [
    "reduce(lambda x,y,c:x*y*c,l)"
   ]
  },
  {
   "cell_type": "code",
   "execution_count": 135,
   "id": "9a07c9fc",
   "metadata": {},
   "outputs": [],
   "source": [
    "def test7(a,b,c):\n",
    "    return a+b+c"
   ]
  },
  {
   "cell_type": "code",
   "execution_count": 136,
   "id": "722ebd32",
   "metadata": {},
   "outputs": [
    {
     "ename": "TypeError",
     "evalue": "test7() missing 1 required positional argument: 'c'",
     "output_type": "error",
     "traceback": [
      "\u001b[1;31m---------------------------------------------------------------------------\u001b[0m",
      "\u001b[1;31mTypeError\u001b[0m                                 Traceback (most recent call last)",
      "\u001b[1;32m~\\AppData\\Local\\Temp/ipykernel_26800/16619228.py\u001b[0m in \u001b[0;36m<module>\u001b[1;34m\u001b[0m\n\u001b[1;32m----> 1\u001b[1;33m \u001b[0mreduce\u001b[0m\u001b[1;33m(\u001b[0m\u001b[0mtest7\u001b[0m\u001b[1;33m,\u001b[0m\u001b[0ml\u001b[0m\u001b[1;33m)\u001b[0m\u001b[1;33m\u001b[0m\u001b[1;33m\u001b[0m\u001b[0m\n\u001b[0m",
      "\u001b[1;31mTypeError\u001b[0m: test7() missing 1 required positional argument: 'c'"
     ]
    }
   ],
   "source": [
    "reduce(test7,l)"
   ]
  },
  {
   "cell_type": "code",
   "execution_count": 137,
   "id": "4b99cf8a",
   "metadata": {},
   "outputs": [
    {
     "data": {
      "text/plain": [
       "[3, 4, 5, 6, 7, 8]"
      ]
     },
     "execution_count": 137,
     "metadata": {},
     "output_type": "execute_result"
    }
   ],
   "source": [
    "l"
   ]
  },
  {
   "cell_type": "code",
   "execution_count": 138,
   "id": "bf5b821a",
   "metadata": {},
   "outputs": [],
   "source": [
    "l2=[6]"
   ]
  },
  {
   "cell_type": "code",
   "execution_count": 139,
   "id": "58096372",
   "metadata": {},
   "outputs": [
    {
     "data": {
      "text/plain": [
       "6"
      ]
     },
     "execution_count": 139,
     "metadata": {},
     "output_type": "execute_result"
    }
   ],
   "source": [
    "reduce(lambda x,y:x+y,l2)"
   ]
  },
  {
   "cell_type": "code",
   "execution_count": 140,
   "id": "c4a39a60",
   "metadata": {},
   "outputs": [],
   "source": [
    "l3=[]"
   ]
  },
  {
   "cell_type": "code",
   "execution_count": 141,
   "id": "3e1ed77a",
   "metadata": {},
   "outputs": [
    {
     "ename": "TypeError",
     "evalue": "reduce() of empty sequence with no initial value",
     "output_type": "error",
     "traceback": [
      "\u001b[1;31m---------------------------------------------------------------------------\u001b[0m",
      "\u001b[1;31mTypeError\u001b[0m                                 Traceback (most recent call last)",
      "\u001b[1;32m~\\AppData\\Local\\Temp/ipykernel_26800/2335956938.py\u001b[0m in \u001b[0;36m<module>\u001b[1;34m\u001b[0m\n\u001b[1;32m----> 1\u001b[1;33m \u001b[0mreduce\u001b[0m\u001b[1;33m(\u001b[0m\u001b[1;32mlambda\u001b[0m \u001b[0mx\u001b[0m\u001b[1;33m,\u001b[0m\u001b[0my\u001b[0m\u001b[1;33m:\u001b[0m\u001b[0mx\u001b[0m\u001b[1;33m+\u001b[0m\u001b[0my\u001b[0m\u001b[1;33m,\u001b[0m\u001b[0ml3\u001b[0m\u001b[1;33m)\u001b[0m\u001b[1;33m\u001b[0m\u001b[1;33m\u001b[0m\u001b[0m\n\u001b[0m",
      "\u001b[1;31mTypeError\u001b[0m: reduce() of empty sequence with no initial value"
     ]
    }
   ],
   "source": [
    "reduce(lambda x,y:x+y,l3)"
   ]
  },
  {
   "cell_type": "code",
   "execution_count": 142,
   "id": "61bb1b9f",
   "metadata": {},
   "outputs": [
    {
     "data": {
      "text/plain": [
       "6"
      ]
     },
     "execution_count": 142,
     "metadata": {},
     "output_type": "execute_result"
    }
   ],
   "source": [
    "reduce(lambda x,y:x*y,l2)"
   ]
  },
  {
   "cell_type": "code",
   "execution_count": 143,
   "id": "cd841347",
   "metadata": {},
   "outputs": [],
   "source": [
    "l=[1,2,3,4,5]\n",
    "l1=[6,7,8,9,10]"
   ]
  },
  {
   "cell_type": "code",
   "execution_count": 144,
   "id": "159e6463",
   "metadata": {},
   "outputs": [
    {
     "data": {
      "text/plain": [
       "[(1, 6), (2, 7), (3, 8), (4, 9), (5, 10)]"
      ]
     },
     "execution_count": 144,
     "metadata": {},
     "output_type": "execute_result"
    }
   ],
   "source": [
    "list(zip(l,l1))"
   ]
  },
  {
   "cell_type": "code",
   "execution_count": 149,
   "id": "81290907",
   "metadata": {},
   "outputs": [],
   "source": [
    "l2=[6,7,8,9]"
   ]
  },
  {
   "cell_type": "code",
   "execution_count": 147,
   "id": "4eac8771",
   "metadata": {},
   "outputs": [
    {
     "data": {
      "text/plain": [
       "[(1, 6), (2, 7), (3, 8), (4, 9)]"
      ]
     },
     "execution_count": 147,
     "metadata": {},
     "output_type": "execute_result"
    }
   ],
   "source": [
    "list(zip(l,l2))"
   ]
  },
  {
   "cell_type": "code",
   "execution_count": 150,
   "id": "a8a69526",
   "metadata": {},
   "outputs": [],
   "source": [
    "l3=[\"Sudh\",\"krisk\"]"
   ]
  },
  {
   "cell_type": "code",
   "execution_count": 151,
   "id": "60a82d34",
   "metadata": {},
   "outputs": [
    {
     "data": {
      "text/plain": [
       "[(1, 'Sudh'), (2, 'krisk')]"
      ]
     },
     "execution_count": 151,
     "metadata": {},
     "output_type": "execute_result"
    }
   ],
   "source": [
    "list(zip(l,l3))"
   ]
  },
  {
   "cell_type": "code",
   "execution_count": 152,
   "id": "af2b016c",
   "metadata": {},
   "outputs": [
    {
     "data": {
      "text/plain": [
       "[(1, 6, 'Sudh'), (2, 7, 'krisk')]"
      ]
     },
     "execution_count": 152,
     "metadata": {},
     "output_type": "execute_result"
    }
   ],
   "source": [
    "list(zip(l,l2,l3))"
   ]
  },
  {
   "cell_type": "code",
   "execution_count": null,
   "id": "de4c38c8",
   "metadata": {},
   "outputs": [],
   "source": [
    "\"\"\"Task for today:\n",
    "    dataset - https://archive.ics.uci.edu/ml/datasets/Bag+of+Words\n",
    "q1=try to find out a count of each and every work in a respective file return a list of tuple with work and its respective count\n",
    "sample output - [('abort', 6), ('find', 3)]\n",
    "q2=try to perform a reduce operation to get a count of all the word starting with same alphabet\n",
    "sample output - [('a', 51), ('b', 54)]\n",
    "q3=try to filter out the workds from dataset without punctuation\n",
    "sample example - .001.abstract then only filter abstract\n",
    "q4=create a tuple set of all the records available in all the five files and store it in sqllite db\n",
    "sample output - (aah, >=, .....) and then insert into sqllite db\"\"\"\n",
    "\n",
    "\"\"\"Task for today :\n",
    "  dataset -   https://archive.ics.uci.edu/ml/datasets/Bag+of+Words\n",
    "    \n",
    "    q1 = try to find out a count of each and every word in a respective file return a list of tuple with word and its respective count \n",
    "       sample example -  [('sudh', 6 ) , ('kumar',3)]\n",
    "    q2 = try to perform a reduce operation to get a count of all the word starting with same alphabet\n",
    "        sample examle = [('a',56) , ('b',34),...........]\n",
    "    q3 = Try to filter out all the words from dataset . \n",
    "    \n",
    "    .001.abstract = abstract\n",
    "    =.002 = delete\n",
    "    q4 = create a tuple set of all the records avaialble in all the five file and then store it in sqllite DB . \n",
    "    ('aah',>=,354,'fdsf','wer')\n",
    "    \n",
    "    Top 10 will be able to get kids neuron \"\"\""
   ]
  }
 ],
 "metadata": {
  "kernelspec": {
   "display_name": "Python 3 (ipykernel)",
   "language": "python",
   "name": "python3"
  },
  "language_info": {
   "codemirror_mode": {
    "name": "ipython",
    "version": 3
   },
   "file_extension": ".py",
   "mimetype": "text/x-python",
   "name": "python",
   "nbconvert_exporter": "python",
   "pygments_lexer": "ipython3",
   "version": "3.9.7"
  }
 },
 "nbformat": 4,
 "nbformat_minor": 5
}
