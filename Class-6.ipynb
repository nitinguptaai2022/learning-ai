{
 "cells": [
  {
   "cell_type": "code",
   "execution_count": 8,
   "id": "99103c51",
   "metadata": {},
   "outputs": [
    {
     "name": "stdout",
     "output_type": "stream",
     "text": [
      "input your string nitin\n",
      "my string is palindrome\n"
     ]
    }
   ],
   "source": [
    "s=input(\"input your string \")\n",
    "if s==s[::-1]:\n",
    "    print(\"my string is palindrome\")\n",
    "else:\n",
    "    print(\"my string is not palindrome\")"
   ]
  },
  {
   "cell_type": "code",
   "execution_count": 9,
   "id": "e7e2a5bb",
   "metadata": {},
   "outputs": [
    {
     "name": "stdout",
     "output_type": "stream",
     "text": [
      "input your string akash\n",
      "my string is not palindrome\n"
     ]
    }
   ],
   "source": [
    "s=input(\"input your string \")\n",
    "if s==s[::-1]:\n",
    "    print(\"my string is palindrome\")\n",
    "else:\n",
    "    print(\"my string is not palindrome\")"
   ]
  },
  {
   "cell_type": "code",
   "execution_count": 14,
   "id": "122ea252",
   "metadata": {},
   "outputs": [
    {
     "name": "stdout",
     "output_type": "stream",
     "text": [
      "input your string eyeeee\n",
      "my string is not palindrome\n"
     ]
    }
   ],
   "source": [
    "s=input(\"input your string \")\n",
    "b=False\n",
    "for i in range(len(s)):\n",
    "    if s[i]==s[len(s)-1-i]:\n",
    "        b=True\n",
    "        continue\n",
    "    else:\n",
    "        b=False\n",
    "        break\n",
    "    \n",
    "if b:\n",
    "    print(\"my string is palindrome\")\n",
    "else:\n",
    "    print(\"my string is not palindrome\")"
   ]
  },
  {
   "cell_type": "code",
   "execution_count": 16,
   "id": "ecc86c55",
   "metadata": {},
   "outputs": [
    {
     "name": "stdout",
     "output_type": "stream",
     "text": [
      "input your string eyeeeeee\n",
      "my string is not palindrome\n"
     ]
    }
   ],
   "source": [
    "s=input(\"input your string \")\n",
    "for i in range(len(s)):\n",
    "    if s[i]!=s[len(s)-1-i]:\n",
    "        print(\"my string is not palindrome\")\n",
    "        break\n",
    "else:\n",
    "    print(\"my string is palindrome\")"
   ]
  },
  {
   "cell_type": "code",
   "execution_count": 23,
   "id": "8a9b643d",
   "metadata": {},
   "outputs": [
    {
     "name": "stdout",
     "output_type": "stream",
     "text": [
      "input your string malayalam\n",
      "my string is palindrome\n"
     ]
    }
   ],
   "source": [
    "s1=input(\"input your string \")\n",
    "s2=\"\"\n",
    "n=len(s1)-1\n",
    "while(n>=0):\n",
    "    s2=s2+s1[n]\n",
    "    n=n-1\n",
    "\n",
    "if s1==s2:\n",
    "    print(\"my string is palindrome\")\n",
    "else:\n",
    "    print(\"my string is not palindrome\")\n",
    "    "
   ]
  },
  {
   "cell_type": "code",
   "execution_count": 24,
   "id": "48deb5b4",
   "metadata": {},
   "outputs": [],
   "source": [
    "#create 2 lists one with having keys length less than 5 and another have greater than 5\n",
    "d={\"india\":\"IN\",\n",
    "  \"canada\":\"CA\",\n",
    "  \"china\":\"CH\",\n",
    "  \"united state\":\"US\"}"
   ]
  },
  {
   "cell_type": "code",
   "execution_count": 37,
   "id": "2ab236aa",
   "metadata": {},
   "outputs": [
    {
     "name": "stdout",
     "output_type": "stream",
     "text": [
      "['india', 'china']\n",
      "['canada', 'united state']\n"
     ]
    }
   ],
   "source": [
    "lessthan5list=[]\n",
    "greaterthan5list=[]\n",
    "for i in d:\n",
    "    if len(i)<=5:\n",
    "        lessthan5list.append(i)\n",
    "    else:\n",
    "        greaterthan5list.append(i)\n",
    "\n",
    "print(lessthan5list)\n",
    "print(greaterthan5list)"
   ]
  },
  {
   "cell_type": "code",
   "execution_count": 38,
   "id": "25122ccb",
   "metadata": {},
   "outputs": [],
   "source": [
    "#print maximum value from each item of below dictionary\n",
    "d1={\"course1\":{\"a\":1,\"b\":2,\"c\":3},\n",
    "    \"course2\":{\"c\":4,\"d\":5,\"e\":6}}"
   ]
  },
  {
   "cell_type": "code",
   "execution_count": 69,
   "id": "6da512f7",
   "metadata": {},
   "outputs": [
    {
     "name": "stdout",
     "output_type": "stream",
     "text": [
      "3\n",
      "6\n"
     ]
    }
   ],
   "source": [
    "lst=[]\n",
    "for i in d1.values():\n",
    "    for j in i.values():\n",
    "        lst.append(j)\n",
    "    print(max(lst))"
   ]
  },
  {
   "cell_type": "code",
   "execution_count": 70,
   "id": "936ea870",
   "metadata": {},
   "outputs": [
    {
     "name": "stdout",
     "output_type": "stream",
     "text": [
      "3\n",
      "6\n"
     ]
    }
   ],
   "source": [
    "for i in d1.values():\n",
    "    print(max(i.values()))"
   ]
  },
  {
   "cell_type": "code",
   "execution_count": 71,
   "id": "7fc1c8d1",
   "metadata": {},
   "outputs": [
    {
     "name": "stdout",
     "output_type": "stream",
     "text": [
      "3\n",
      "6\n"
     ]
    }
   ],
   "source": [
    "for i in d1.keys():\n",
    "    print(max(d1[i].values()))"
   ]
  },
  {
   "cell_type": "code",
   "execution_count": 86,
   "id": "f18f857c",
   "metadata": {},
   "outputs": [],
   "source": [
    "#print maximum value from each item of below dictionary\n",
    "d2={\"course1\":{\"a\":1,\"b\":2,\"c\":3},\n",
    "    \"course2\":{\"c\":4,\"d\":5,\"e\":6},\n",
    "    \"course3\":23,\n",
    "   \"course4\":[23,34,58,12],\n",
    "   \"course5\":(56,23,78),\n",
    "   \"course6\":\"sudh\"}"
   ]
  },
  {
   "cell_type": "code",
   "execution_count": 90,
   "id": "2e1b3bbf",
   "metadata": {},
   "outputs": [
    {
     "name": "stdout",
     "output_type": "stream",
     "text": [
      "3\n",
      "6\n",
      "23\n",
      "58\n",
      "78\n"
     ]
    }
   ],
   "source": [
    "#this will not work for complex types, not a generic code\n",
    "for i in d2.values():\n",
    "    if type(i)==str:\n",
    "        continue\n",
    "    elif type(i)==tuple or type(i)==list:\n",
    "        print(max(i))\n",
    "    elif type(i)==int:\n",
    "        print(i)\n",
    "    else:\n",
    "        print(max(i.values()))   \n",
    "    \n"
   ]
  },
  {
   "cell_type": "code",
   "execution_count": null,
   "id": "2e7cba30",
   "metadata": {},
   "outputs": [],
   "source": []
  },
  {
   "cell_type": "code",
   "execution_count": null,
   "id": "5c3e724f",
   "metadata": {},
   "outputs": [],
   "source": []
  },
  {
   "cell_type": "code",
   "execution_count": null,
   "id": "767e998b",
   "metadata": {},
   "outputs": [],
   "source": []
  }
 ],
 "metadata": {
  "kernelspec": {
   "display_name": "Python 3 (ipykernel)",
   "language": "python",
   "name": "python3"
  },
  "language_info": {
   "codemirror_mode": {
    "name": "ipython",
    "version": 3
   },
   "file_extension": ".py",
   "mimetype": "text/x-python",
   "name": "python",
   "nbconvert_exporter": "python",
   "pygments_lexer": "ipython3",
   "version": "3.9.7"
  }
 },
 "nbformat": 4,
 "nbformat_minor": 5
}
