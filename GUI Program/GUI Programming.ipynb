{
 "cells": [
  {
   "cell_type": "code",
   "execution_count": 1,
   "id": "51c54e05",
   "metadata": {},
   "outputs": [
    {
     "name": "stdout",
     "output_type": "stream",
     "text": [
      "['activebackground', 'activeforeground', 'anchor', 'background', 'bd', 'bg', 'bitmap', 'borderwidth', 'compound', 'cursor', 'disabledforeground', 'fg', 'font', 'foreground', 'height', 'highlightbackground', 'highlightcolor', 'highlightthickness', 'image', 'justify', 'padx', 'pady', 'relief', 'state', 'takefocus', 'text', 'textvariable', 'underline', 'width', 'wraplength']\n"
     ]
    }
   ],
   "source": [
    "# First GUI App\n",
    "import tkinter\n",
    "tw = tkinter.Tk()\n",
    "tw.title('GUI App')\n",
    "img=tkinter.PhotoImage(file='logo.png')\n",
    "img1=tkinter.PhotoImage(file='D:\\\\San\\\\Bitmetric.png')\n",
    "# if the path is in specific director then do it like d:\\\\download\\\\logo.png\n",
    "#tw.iconphoto(True,img)\n",
    "tw.iconphoto(tw,img)\n",
    "# tw arugmemnt in iconphoto is root window\n",
    "#tw.geometry('600x200')\n",
    "screenwidth=tw.winfo_screenwidth()\n",
    "screenheight=tw.winfo_screenheight()\n",
    "width=screenwidth//2\n",
    "height=screenheight//2\n",
    "xco=screenwidth//4\n",
    "yco=screenheight//4\n",
    "tw.geometry(f\"{width}x{height}+{xco}+{yco}\")\n",
    "# Widget - Label, Button, Entry, Checkbutton, etc.\n",
    "lbl1=tkinter.Label(tw,text='Welcome to Python', bg='yellow',fg='blue',font='Arial 22 bold',)\n",
    "# compound=tkinter.CENTER is used to adjust the position of label text\n",
    "lbl2=tkinter.Label(tw,text='Python Rocks!',borderwidth=5,image=img1,compound=tkinter.CENTER)\n",
    "#font size style using font argument with multiword string e.g. 'Verdana 16 italic'\n",
    "lbl2.config(bg='yellow',fg='red',font='Verdana 16 italic')\n",
    "# multi word string for font name like 'Times New Roman' can be passed like:\n",
    "lbl2.config(bg='yellow',fg='red',font=('Times New Roman',20,'bold'))\n",
    "#this can also be lbl2.configure(bg='yellow',fg='red')\n",
    "# Parameters for lbl\n",
    "print(lbl1.keys())\n",
    "b1=tkinter.Button(tw,text='Click to Save')\n",
    "b1.pack()\n",
    "lbl1.place(x=80, y=90)\n",
    "lbl2.place(x=25, y=100)\n",
    "lbl1.pack()\n",
    "lbl2.pack()\n",
    "# do not allow resize window\n",
    "tw.resizable(False,False)\n",
    "tw.mainloop()"
   ]
  },
  {
   "cell_type": "code",
   "execution_count": 2,
   "id": "23f775a9",
   "metadata": {},
   "outputs": [],
   "source": [
    "# Widget - Label, Button, Entry, Checkbutton, etc.\n",
    "import tkinter\n",
    "root = tkinter.Tk()\n",
    "root.geometry('600x200')\n",
    "root.configure(bg='yellow')\n",
    "lbl=tkinter.Label(root,text='Welcome to Python')\n",
    "lbl.configure(bg='red',fg='blue')\n",
    "lbl.pack()\n",
    "root.mainloop()"
   ]
  },
  {
   "cell_type": "code",
   "execution_count": 3,
   "id": "2d07bb41",
   "metadata": {},
   "outputs": [],
   "source": [
    "import tkinter\n",
    "import tkinter.font as tkFont\n",
    "root = tkinter.Tk()\n",
    "#root.geometry('600x200')\n",
    "myfont=tkFont.Font(weight='bold', size='22')\n",
    "lbl=tkinter.Label(root,text='Welcome to Python!\\nHello India',font=myfont,width=30,height=4,relief=\"raised\",borderwidth=2)\n",
    "# relief = solid, flat, raised, sunken, ridge, groove\n",
    "lbl.pack()\n",
    "root.mainloop()"
   ]
  },
  {
   "cell_type": "code",
   "execution_count": 3,
   "id": "3e2d1991",
   "metadata": {},
   "outputs": [],
   "source": [
    "## Positioning the Lable using anchor parameter\n",
    "# anchor = n, ne, e, se, s, sw, nw\n",
    "import tkinter\n",
    "import tkinter.font as tkFont\n",
    "root = tkinter.Tk()\n",
    "#root.geometry('600x200')\n",
    "myfont=tkFont.Font(weight='bold', size='22')\n",
    "lbl=tkinter.Label(root,text='Welcome to Python!\\nHello India',font=myfont,width=30,height=4,relief=\"raised\",borderwidth=2,anchor='s')\n",
    "#Override lbl text Argument as given below:\n",
    "lbl['text']='Hello World!'\n",
    "# relief = solid, flat, raised, sunken, ridge, groove\n",
    "lbl.pack()\n",
    "root.mainloop()"
   ]
  },
  {
   "cell_type": "code",
   "execution_count": 4,
   "id": "c1dcb1fb",
   "metadata": {},
   "outputs": [
    {
     "data": {
      "text/plain": [
       "'C:\\\\Users\\\\san_g'"
      ]
     },
     "execution_count": 4,
     "metadata": {},
     "output_type": "execute_result"
    }
   ],
   "source": [
    "import os\n",
    "os.getcwd()"
   ]
  },
  {
   "cell_type": "code",
   "execution_count": 5,
   "id": "982d136f",
   "metadata": {},
   "outputs": [],
   "source": [
    "import tkinter\n",
    "root = tkinter.Tk()\n",
    "root.geometry('200x130+100+200')\n",
    "l1=tkinter.Label(root, text='Height:')\n",
    "l1.place(x=5,y=10)\n",
    "t1=tkinter.Entry(root)\n",
    "t1.place(x=50,y=10)\n",
    "l2=tkinter.Label(root, text='Width:')\n",
    "l2.place(x=5,y=30)\n",
    "t2=tkinter.Entry(root)\n",
    "t2.place(x=50,y=30)\n",
    "c1=tkinter.Checkbutton(root,text='Preserver aspect')\n",
    "c1.place(x=5, y=50)\n",
    "b1=tkinter.Button(root,text='Zoom in')\n",
    "b1.place(x=25, y=80)\n",
    "b2=tkinter.Button(root,text='Zoom Out')\n",
    "b2.place(x=90, y=80)\n",
    "root.mainloop()\n"
   ]
  },
  {
   "cell_type": "code",
   "execution_count": 6,
   "id": "9d0e455c",
   "metadata": {},
   "outputs": [],
   "source": [
    "import tkinter\n",
    "root = tkinter.Tk()\n",
    "root.geometry('200x200+00+200')\n",
    "l1=tkinter.Label(root, text='Label 1', bg='red', fg='white')\n",
    "l2=tkinter.Label(root, text='Label 2', bg='blue', fg='white')\n",
    "l3=tkinter.Label(root, text='Label 3', bg='green', fg='white')\n",
    "l4=tkinter.Label(root, text='Label 4', bg='yellow', fg='white')\n",
    "l1.grid(row=0,column=0)\n",
    "l2.grid(row=2,column=1)\n",
    "l3.grid(row=4,column=2)\n",
    "l4.grid(row=6,column=3)\n",
    "root.mainloop()\n"
   ]
  },
  {
   "cell_type": "code",
   "execution_count": 7,
   "id": "b032715b",
   "metadata": {},
   "outputs": [],
   "source": [
    "import tkinter\n",
    "root = tkinter.Tk()\n",
    "root.geometry('200x200+00+200')\n",
    "l1=tkinter.Label(root,text='Name: ')\n",
    "l2=tkinter.Label(root,text='Password: ')\n",
    "e1=tkinter.Entry(root)\n",
    "e2=tkinter.Entry(root,show=\"*\", width=15)\n",
    "b1=tkinter.Button(root,text='Login')\n",
    "b2=tkinter.Button(root,text='Quit')\n",
    "l1.grid(row=0,column=0,sticky=tkinter.W)\n",
    "e1.grid(row=0,column=1)\n",
    "l2.grid(row=1,column=0)\n",
    "e2.grid(row=1,column=1)\n",
    "b1.grid(row=2,column=0)\n",
    "b2.grid(row=2,column=1)\n",
    "root.mainloop()"
   ]
  },
  {
   "cell_type": "code",
   "execution_count": 8,
   "id": "a2538826",
   "metadata": {},
   "outputs": [],
   "source": [
    "import tkinter\n",
    "root = tkinter.Tk()\n",
    "root.geometry('600x200+100+200')\n",
    "l0=tkinter.Label(root,text='Number Addition Program',font='Arial 22 bold')\n",
    "l1=tkinter.Label(root,text='First No: ')\n",
    "l2=tkinter.Label(root,text='Second No: ')\n",
    "e1=tkinter.Entry(root)\n",
    "e2=tkinter.Entry(root)\n",
    "b1=tkinter.Button(root,text='Add')\n",
    "b2=tkinter.Button(root,text='Clear')\n",
    "b3=tkinter.Button(root,text='Quit')\n",
    "l0.grid(row=0,column=0)\n",
    "l1.grid(row=1,column=0,sticky=tkinter.E)\n",
    "e1.grid(row=1,column=1,columnspan=2)\n",
    "l2.grid(row=2,column=0,sticky=tkinter.E)\n",
    "e2.grid(row=2,column=1)\n",
    "b1.grid(row=3,column=0,pady=5,padx=5,sticky=tkinter.E+tkinter.W)\n",
    "b2.grid(row=3,column=1,pady=5,padx=5,sticky=tkinter.E+tkinter.W)\n",
    "b3.grid(row=3,column=2,pady=5,padx=5,sticky=tkinter.E+tkinter.W)\n",
    "root.mainloop()"
   ]
  },
  {
   "cell_type": "code",
   "execution_count": 9,
   "id": "e93b1507",
   "metadata": {},
   "outputs": [],
   "source": [
    "import tkinter\n",
    "def action():\n",
    "    root.config(bg='red')\n",
    "    \n",
    "root = tkinter.Tk()\n",
    "root.geometry('400x400')\n",
    "b1=tkinter.Button(root,text='Click Me',command=action)\n",
    "b1.pack()\n",
    "root.mainloop()"
   ]
  },
  {
   "cell_type": "code",
   "execution_count": 10,
   "id": "cab13d9f",
   "metadata": {},
   "outputs": [],
   "source": [
    "from tkinter import *\n",
    "def changecolor(e):\n",
    "    root.config(bg='red')\n",
    "    \n",
    "root=Tk()\n",
    "root.geometry('200x200')\n",
    "b1=Button(root,text='Click Me')\n",
    "# right Click is <Button-3>\n",
    "b1.bind('<Button-3>',changecolor)\n",
    "b1.pack()\n",
    "root.mainloop()"
   ]
  },
  {
   "cell_type": "code",
   "execution_count": 11,
   "id": "dc85afde",
   "metadata": {},
   "outputs": [],
   "source": [
    "# Event Handling\n",
    "from tkinter import *\n",
    "def changecolorred(e):\n",
    "    root.config(bg='red')\n",
    "def changecolorblue(e):\n",
    "    root.config(bg='blue')\n",
    "    \n",
    "root=Tk()\n",
    "root.geometry('200x200')\n",
    "b1=Button(root,text='Click Me')\n",
    "# Left Click to do red bg\n",
    "b1.bind('<Button-1>',changecolorred)\n",
    "# Right Click to do blue bg\n",
    "b1.bind('<Button-3>',changecolorblue)\n",
    "b1.pack()\n",
    "root.mainloop()"
   ]
  },
  {
   "cell_type": "code",
   "execution_count": null,
   "id": "1955e24e",
   "metadata": {},
   "outputs": [],
   "source": []
  }
 ],
 "metadata": {
  "kernelspec": {
   "display_name": "Python 3 (ipykernel)",
   "language": "python",
   "name": "python3"
  },
  "language_info": {
   "codemirror_mode": {
    "name": "ipython",
    "version": 3
   },
   "file_extension": ".py",
   "mimetype": "text/x-python",
   "name": "python",
   "nbconvert_exporter": "python",
   "pygments_lexer": "ipython3",
   "version": "3.9.7"
  }
 },
 "nbformat": 4,
 "nbformat_minor": 5
}
