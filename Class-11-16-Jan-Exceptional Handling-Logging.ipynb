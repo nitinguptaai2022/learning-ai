{
 "cells": [
  {
   "cell_type": "code",
   "execution_count": 1,
   "id": "7f0a4e8b",
   "metadata": {},
   "outputs": [
    {
     "ename": "SyntaxError",
     "evalue": "invalid syntax (Temp/ipykernel_23944/2066357761.py, line 4)",
     "output_type": "error",
     "traceback": [
      "\u001b[1;36m  File \u001b[1;32m\"C:\\Users\\ngupta\\AppData\\Local\\Temp/ipykernel_23944/2066357761.py\"\u001b[1;36m, line \u001b[1;32m4\u001b[0m\n\u001b[1;33m    except\u001b[0m\n\u001b[1;37m          ^\u001b[0m\n\u001b[1;31mSyntaxError\u001b[0m\u001b[1;31m:\u001b[0m invalid syntax\n"
     ]
    }
   ],
   "source": [
    "try:\n",
    "    d={\"key1\":\"sudh\",\"key2\":[1,2,3,4],\"key3\":(4,5,6,7)}\n",
    "    d[\"key4\"]=int(input())\n",
    "except"
   ]
  },
  {
   "cell_type": "code",
   "execution_count": null,
   "id": "74e8053e",
   "metadata": {},
   "outputs": [],
   "source": [
    "try:\n",
    "    d={\"key1\":\"sudh\",\"key2\":[1,2,3,4],\"key3\":(4,5,6,7)}\n",
    "    d[\"key4\"]=int(input())\n",
    "except Exception as ex:\n",
    "    print(ex)\n"
   ]
  },
  {
   "cell_type": "code",
   "execution_count": null,
   "id": "b8e0e7e3",
   "metadata": {},
   "outputs": [],
   "source": [
    "try:\n",
    "    d={\"key1\":\"sudh\",\"key2\":[1,2,3,4],\"key3\":(4,5,6,7)}\n",
    "    d[\"key4\"]=int(input())\n",
    "except ValueError as ex:\n",
    "    print(ex)\n"
   ]
  },
  {
   "cell_type": "code",
   "execution_count": null,
   "id": "9e569e2c",
   "metadata": {},
   "outputs": [],
   "source": [
    "#Error is not handled if subset of exception class is used. ONly specifc error will be handled by subset classes.\n",
    "#As we used valueerror class to handle only value error instead of file not found error, thats why below error is not handled.\n",
    "#To resolve that issue either use super exception class (i.e. Exception) or use specific class which can handle file not found error\n",
    "try:\n",
    "    d={\"key1\":\"sudh\",\"key2\":[1,2,3,4],\"key3\":(4,5,6,7)}\n",
    "    d[\"key4\"]=int(input())\n",
    "    f=open(\"xyz.txt\",\"r\")\n",
    "except ValueError as ex:\n",
    "    print(ex)\n"
   ]
  },
  {
   "cell_type": "code",
   "execution_count": null,
   "id": "7765bd15",
   "metadata": {},
   "outputs": [],
   "source": [
    "try:\n",
    "    d={\"key1\":\"sudh\",\"key2\":[1,2,3,4],\"key3\":(4,5,6,7)}\n",
    "    d[\"key4\"]=int(input())\n",
    "    f=open(\"xyz.txt\",\"r\")\n",
    "except Exception as ex:\n",
    "    print(ex)"
   ]
  },
  {
   "cell_type": "code",
   "execution_count": null,
   "id": "6ccaf308",
   "metadata": {},
   "outputs": [],
   "source": [
    "try:\n",
    "    d={\"key1\":\"sudh\",\"key2\":[1,2,3,4],\"key3\":(4,5,6,7)}\n",
    "    d[\"key4\"]=int(input())\n",
    "    f=open(\"xyz.txt\",\"r\")\n",
    "except ValueError as ex:\n",
    "    print(ex)\n",
    "except FileNotFoundError as ex:\n",
    "    print(\"File Not Found - \",ex)"
   ]
  },
  {
   "cell_type": "code",
   "execution_count": null,
   "id": "8eeed580",
   "metadata": {},
   "outputs": [],
   "source": [
    "try:\n",
    "    d={\"key1\":\"sudh\",\"key2\":[1,2,3,4],\"key3\":(4,5,6,7)}\n",
    "    d[\"key4\"]=int(input())\n",
    "    f=open(\"xyz.txt\",\"r\")\n",
    "except Exception as ex:\n",
    "    print(\"Handled by Exception Super class - \",ex)\n",
    "except ValueError as ex:\n",
    "    print(ex)\n",
    "except FileNotFoundError as ex:\n",
    "    print(\"File Not Found - \",ex)"
   ]
  },
  {
   "cell_type": "code",
   "execution_count": null,
   "id": "42528c2a",
   "metadata": {},
   "outputs": [],
   "source": [
    "try:\n",
    "    d={\"key1\":\"sudh\",\"key2\":[1,2,3,4],\"key3\":(4,5,6,7)}\n",
    "    d[\"key4\"]=int(input())\n",
    "    f=open(\"xyz.txt\",\"r\")\n",
    "except ValueError as ex:\n",
    "    print(ex)\n",
    "except FileNotFoundError as ex:\n",
    "    print(\"Handled By File Not Found - \",ex)\n",
    "except Exception as ex:\n",
    "    print(\"Handled by Exception Super class - \",ex)"
   ]
  },
  {
   "cell_type": "code",
   "execution_count": null,
   "id": "2fa2f053",
   "metadata": {},
   "outputs": [],
   "source": [
    "try:\n",
    "    f=open(\"exception.txt\",\"w\")\n",
    "    f.write(\"this is my line into exception file\")\n",
    "except Exception as e:\n",
    "    print(\"error occurred\")\n",
    "else:\n",
    "    print(\"this will execute once my try block is executed successfully\")\n",
    "    f.close()"
   ]
  },
  {
   "cell_type": "code",
   "execution_count": null,
   "id": "abc64880",
   "metadata": {},
   "outputs": [],
   "source": [
    "try:\n",
    "    f=open(\"exception1.txt\",\"r\")\n",
    "    f.write(\"this is my line into exception file\")\n",
    "except Exception as e:\n",
    "    print(\"error occurred\")\n",
    "else:\n",
    "    print(\"this will execute once my try block is executed successfully\")\n",
    "    f.close()"
   ]
  },
  {
   "cell_type": "code",
   "execution_count": null,
   "id": "56628cf8",
   "metadata": {},
   "outputs": [],
   "source": [
    "try:\n",
    "    f=open(\"exception1.txt\",\"r\")\n",
    "    f.write(\"this is my line into exception file\")\n",
    "except Exception as e:\n",
    "    print(\"error occurred\")\n",
    "finally:\n",
    "    print(\"this will execute always\")\n",
    "    f.close()"
   ]
  },
  {
   "cell_type": "code",
   "execution_count": null,
   "id": "e42ebc02",
   "metadata": {},
   "outputs": [],
   "source": [
    "try:\n",
    "    f=open(\"exception1.txt\",\"r\")\n",
    "    f.write(\"this is my line into exception file\")\n",
    "except Exception as e:\n",
    "    print(\"error occurred\")\n",
    "else:\n",
    "    print(\"this will execute once my try block is executed successfully\")\n",
    "    f.close()\n",
    "finally:\n",
    "    print(\"this will execute always\")\n",
    "    f.close()"
   ]
  },
  {
   "cell_type": "code",
   "execution_count": null,
   "id": "c39874a4",
   "metadata": {},
   "outputs": [],
   "source": [
    "try:\n",
    "    f=open(\"exception1.txt\",\"w\")\n",
    "    f.write(\"this is my line into exception file\")\n",
    "except Exception as e:\n",
    "    print(\"error occurred\")\n",
    "else:\n",
    "    print(\"this will execute once my try block is executed successfully\")\n",
    "finally:\n",
    "    print(\"this will execute always\")\n",
    "    f.close()"
   ]
  },
  {
   "cell_type": "code",
   "execution_count": null,
   "id": "2a1a62c4",
   "metadata": {},
   "outputs": [],
   "source": [
    "def askint():\n",
    "    a=int(input())\n",
    "    return a"
   ]
  },
  {
   "cell_type": "code",
   "execution_count": null,
   "id": "ae586d88",
   "metadata": {},
   "outputs": [],
   "source": [
    "askint()"
   ]
  },
  {
   "cell_type": "code",
   "execution_count": null,
   "id": "2fefb9fe",
   "metadata": {},
   "outputs": [],
   "source": [
    "askint()"
   ]
  },
  {
   "cell_type": "code",
   "execution_count": null,
   "id": "6c81b043",
   "metadata": {},
   "outputs": [],
   "source": [
    "def askint():\n",
    "    try:\n",
    "        a=int(input())\n",
    "        return a\n",
    "    except:\n",
    "        print(\"please input numeric value\")"
   ]
  },
  {
   "cell_type": "code",
   "execution_count": null,
   "id": "984df9df",
   "metadata": {},
   "outputs": [],
   "source": [
    "askint()"
   ]
  },
  {
   "cell_type": "code",
   "execution_count": null,
   "id": "91df859b",
   "metadata": {},
   "outputs": [],
   "source": [
    "#write a code which will keep asking for the correct input if have not entered the correct input\n",
    "def askint():\n",
    "    try:\n",
    "        a=int(input())\n",
    "        return a\n",
    "    except:\n",
    "        askint()"
   ]
  },
  {
   "cell_type": "code",
   "execution_count": 2,
   "id": "7200d624",
   "metadata": {},
   "outputs": [
    {
     "ename": "NameError",
     "evalue": "name 'askint' is not defined",
     "output_type": "error",
     "traceback": [
      "\u001b[1;31m---------------------------------------------------------------------------\u001b[0m",
      "\u001b[1;31mNameError\u001b[0m                                 Traceback (most recent call last)",
      "\u001b[1;32m~\\AppData\\Local\\Temp/ipykernel_23944/577270890.py\u001b[0m in \u001b[0;36m<module>\u001b[1;34m\u001b[0m\n\u001b[1;32m----> 1\u001b[1;33m \u001b[0maskint\u001b[0m\u001b[1;33m(\u001b[0m\u001b[1;33m)\u001b[0m\u001b[1;33m\u001b[0m\u001b[1;33m\u001b[0m\u001b[0m\n\u001b[0m",
      "\u001b[1;31mNameError\u001b[0m: name 'askint' is not defined"
     ]
    }
   ],
   "source": [
    "askint()"
   ]
  },
  {
   "cell_type": "code",
   "execution_count": null,
   "id": "3aa9067c",
   "metadata": {},
   "outputs": [],
   "source": [
    "def askint1():\n",
    "    flag=True\n",
    "    while flag:\n",
    "        try:\n",
    "            a=int(input(\"enter the integer:\"))\n",
    "            if type(a)==int:\n",
    "                return print(\"yes, you entered the integer - \",a)\n",
    "                flag=False\n",
    "        except:\n",
    "            print(\"you did not put integer, pls put integer\")\n",
    "\n",
    "askint1()"
   ]
  },
  {
   "cell_type": "code",
   "execution_count": null,
   "id": "c793310c",
   "metadata": {},
   "outputs": [],
   "source": [
    "def askint2():\n",
    "    while True:\n",
    "        try:\n",
    "            a=int(input())\n",
    "            return print(\"yes, you entered the integer - \",a)\n",
    "            break\n",
    "        except:\n",
    "            print(\"you did not put integer, pls put integer\")\n",
    "\n",
    "askint2()"
   ]
  },
  {
   "cell_type": "code",
   "execution_count": null,
   "id": "d0679364",
   "metadata": {},
   "outputs": [],
   "source": [
    "def askint3():\n",
    "    while True:\n",
    "        try:\n",
    "            a=int(input())\n",
    "            print(\"yes, you put integer - \", a)\n",
    "        except:\n",
    "            print(\"you did not put integer, pls put integer\")\n",
    "            continue\n",
    "\n",
    "        if a<0:\n",
    "            print(\"you entered negative value, pls put integer\")\n",
    "            continue\n",
    "        else:\n",
    "            break\n",
    "            \n",
    "askint3()"
   ]
  },
  {
   "cell_type": "code",
   "execution_count": null,
   "id": "3c11f5f4",
   "metadata": {},
   "outputs": [],
   "source": [
    "a=5/10"
   ]
  },
  {
   "cell_type": "code",
   "execution_count": null,
   "id": "84801b5f",
   "metadata": {},
   "outputs": [],
   "source": [
    "5/0"
   ]
  },
  {
   "cell_type": "code",
   "execution_count": null,
   "id": "1b6fe127",
   "metadata": {},
   "outputs": [],
   "source": [
    "#below is user raised exception\n",
    "def test1(a):\n",
    "    if a<0:\n",
    "        raise Exception(a)\n",
    "    return a"
   ]
  },
  {
   "cell_type": "code",
   "execution_count": null,
   "id": "e5ffb31e",
   "metadata": {},
   "outputs": [],
   "source": [
    "test1(-3)"
   ]
  },
  {
   "cell_type": "code",
   "execution_count": null,
   "id": "1951e7da",
   "metadata": {},
   "outputs": [],
   "source": [
    "test1(3)"
   ]
  },
  {
   "cell_type": "code",
   "execution_count": null,
   "id": "a6908950",
   "metadata": {},
   "outputs": [],
   "source": [
    "#below is user raised exception\n",
    "def test1(a):\n",
    "    if a<0:\n",
    "        raise Exception(\"you entered negative value\",a)\n",
    "    return a"
   ]
  },
  {
   "cell_type": "code",
   "execution_count": null,
   "id": "b86b3e6f",
   "metadata": {},
   "outputs": [],
   "source": [
    "test1(-3)"
   ]
  },
  {
   "cell_type": "code",
   "execution_count": null,
   "id": "d5f18818",
   "metadata": {},
   "outputs": [],
   "source": [
    "def test1(a):\n",
    "    if a<0:\n",
    "        raise ValueError(\"you entered negative value\",a)\n",
    "    return a"
   ]
  },
  {
   "cell_type": "code",
   "execution_count": null,
   "id": "cf03cb21",
   "metadata": {},
   "outputs": [],
   "source": [
    "test1(-4)"
   ]
  },
  {
   "cell_type": "code",
   "execution_count": null,
   "id": "5de53abc",
   "metadata": {},
   "outputs": [],
   "source": [
    "def test2(a):\n",
    "    if a<0:\n",
    "        raise IOError(\"you entered negative value\",a)\n",
    "    return a"
   ]
  },
  {
   "cell_type": "code",
   "execution_count": null,
   "id": "2c894943",
   "metadata": {},
   "outputs": [],
   "source": [
    "test2(-5)"
   ]
  },
  {
   "cell_type": "code",
   "execution_count": null,
   "id": "d55edeb9",
   "metadata": {},
   "outputs": [],
   "source": [
    "try:\n",
    "    test1(-3)\n",
    "except Exception as e:\n",
    "    print(\"error occured while calling function - \", e)"
   ]
  },
  {
   "cell_type": "code",
   "execution_count": null,
   "id": "34cca754",
   "metadata": {},
   "outputs": [],
   "source": [
    "#logging concepts"
   ]
  },
  {
   "cell_type": "code",
   "execution_count": null,
   "id": "b7f5aecb",
   "metadata": {},
   "outputs": [],
   "source": [
    "#In production you should not use print, it is just for dev ease. \n",
    "#So you have to achieve this into production by enable logging \n",
    "print(\"Hello\")"
   ]
  },
  {
   "cell_type": "code",
   "execution_count": 2,
   "id": "82188eb3",
   "metadata": {},
   "outputs": [],
   "source": [
    "import logging"
   ]
  },
  {
   "cell_type": "code",
   "execution_count": null,
   "id": "75bed479",
   "metadata": {},
   "outputs": [],
   "source": [
    "logging.basicConfig(filename=\"test.log\")"
   ]
  },
  {
   "cell_type": "code",
   "execution_count": null,
   "id": "ddbff3a9",
   "metadata": {},
   "outputs": [],
   "source": [
    "#level of loggings which can be created\n",
    "#DEBUG\n",
    "#INFO\n",
    "#WARNING\n",
    "#ERROR\n",
    "#CRITICAL"
   ]
  },
  {
   "cell_type": "code",
   "execution_count": null,
   "id": "fded39d3",
   "metadata": {},
   "outputs": [],
   "source": [
    "logging.info(\"This is my info log\")\n",
    "logging.warning(\"This is my warning log\")\n",
    "logging.error(\"This is my error log\")"
   ]
  },
  {
   "cell_type": "code",
   "execution_count": null,
   "id": "a3cb179a",
   "metadata": {},
   "outputs": [],
   "source": [
    "#You will observe that info type of logging is not logged."
   ]
  },
  {
   "cell_type": "code",
   "execution_count": null,
   "id": "a84d4690",
   "metadata": {},
   "outputs": [],
   "source": [
    "#This will shutdown the logging object created via basicConfig\n",
    "logging.shutdown()"
   ]
  },
  {
   "cell_type": "code",
   "execution_count": 6,
   "id": "709b868c",
   "metadata": {},
   "outputs": [],
   "source": [
    "#This is add info type of logging and will log info, warning and error\n",
    "logging.basicConfig(filename=\"test1.log\", level = logging.info)"
   ]
  },
  {
   "cell_type": "code",
   "execution_count": 7,
   "id": "5b5e5e59",
   "metadata": {},
   "outputs": [],
   "source": [
    "logging.info(\"This is my info log\")\n",
    "logging.warning(\"This is my warning log\")\n",
    "logging.error(\"This is my error log\")"
   ]
  },
  {
   "cell_type": "code",
   "execution_count": 13,
   "id": "78315b67",
   "metadata": {},
   "outputs": [],
   "source": [
    "logging.shutdown()"
   ]
  },
  {
   "cell_type": "code",
   "execution_count": 3,
   "id": "5fc5544d",
   "metadata": {},
   "outputs": [],
   "source": [
    "#This will add time of logging\n",
    "import logging\n",
    "logging.basicConfig(filename=\"test2.log\", level = logging.debug, format='%(asctime)s %(message)s')"
   ]
  },
  {
   "cell_type": "code",
   "execution_count": 5,
   "id": "679dfaa5",
   "metadata": {},
   "outputs": [],
   "source": [
    "logging.info(\"This is my info log\")\n",
    "logging.warning(\"This is my warning log\")\n",
    "logging.error(\"This is my error log\")\n",
    "logging.debug(\"This is my debug log\")\n",
    "logging.shutdown()"
   ]
  },
  {
   "cell_type": "code",
   "execution_count": 2,
   "id": "508827ab",
   "metadata": {},
   "outputs": [],
   "source": [
    "#This will add time with logging level and will log debug, info, warning and error\n",
    "import logging\n",
    "logging.basicConfig(filename=\"test3.log\", level = logging.debug, format='%(asctime)s %(levelname)s %(message)s')\n",
    "logging.info(\"This is my info log\")\n",
    "logging.warning(\"This is my warning log\")\n",
    "logging.error(\"This is my error log\")\n",
    "logging.debug(\"This is my debug log\")\n",
    "logging.shutdown()"
   ]
  },
  {
   "cell_type": "code",
   "execution_count": 1,
   "id": "5391572c",
   "metadata": {},
   "outputs": [],
   "source": [
    "#This will log only error type of logging and add time with logging level because error is highest priority log level.\n",
    "import logging\n",
    "logging.basicConfig(filename=\"test4.log\", level = logging.ERROR, format='%(asctime)s %(levelname)s %(message)s')\n",
    "logging.info(\"This is my info log\")\n",
    "logging.warning(\"This is my warning log\")\n",
    "logging.error(\"This is my error log\")\n",
    "logging.debug(\"This is my debug log\")\n",
    "logging.shutdown()"
   ]
  },
  {
   "cell_type": "code",
   "execution_count": 2,
   "id": "abe76035",
   "metadata": {},
   "outputs": [],
   "source": [
    "#level of loggings Priority\n",
    "#ERROR\n",
    "#WARNING\n",
    "#INFO\n",
    "#DEBUG"
   ]
  },
  {
   "cell_type": "code",
   "execution_count": 1,
   "id": "3d01658c",
   "metadata": {},
   "outputs": [],
   "source": [
    "import logging\n",
    "logging.basicConfig(filename=\"test5.log\", level = logging.DEBUG, format='%(asctime)s %(levelname)s %(message)s')"
   ]
  },
  {
   "cell_type": "code",
   "execution_count": 2,
   "id": "b6428082",
   "metadata": {},
   "outputs": [],
   "source": [
    "def divByZero(a,b):\n",
    "    logging.info(\"This is my start of code and trying to enter %s and %s\", a,b)\n",
    "    try:\n",
    "        div=a/b\n",
    "        logging.info(\"executed successfully\")\n",
    "    except Exception as e:\n",
    "        logging.error(\"Error occured\")\n",
    "        logging.exception(\"Exception is - \" + str(e))"
   ]
  },
  {
   "cell_type": "code",
   "execution_count": 4,
   "id": "39f259b9",
   "metadata": {},
   "outputs": [],
   "source": [
    "divByZero(4,5)"
   ]
  },
  {
   "cell_type": "code",
   "execution_count": 5,
   "id": "67687255",
   "metadata": {},
   "outputs": [],
   "source": [
    "divByZero(4,0)"
   ]
  },
  {
   "cell_type": "code",
   "execution_count": null,
   "id": "a65a351c",
   "metadata": {},
   "outputs": [],
   "source": []
  }
 ],
 "metadata": {
  "kernelspec": {
   "display_name": "Python 3 (ipykernel)",
   "language": "python",
   "name": "python3"
  },
  "language_info": {
   "codemirror_mode": {
    "name": "ipython",
    "version": 3
   },
   "file_extension": ".py",
   "mimetype": "text/x-python",
   "name": "python",
   "nbconvert_exporter": "python",
   "pygments_lexer": "ipython3",
   "version": "3.9.7"
  }
 },
 "nbformat": 4,
 "nbformat_minor": 5
}
