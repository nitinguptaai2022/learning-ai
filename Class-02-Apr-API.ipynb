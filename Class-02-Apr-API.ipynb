{
 "cells": [
  {
   "cell_type": "code",
   "execution_count": 1,
   "id": "a3f1df81",
   "metadata": {},
   "outputs": [
    {
     "data": {
      "text/plain": [
       "77"
      ]
     },
     "execution_count": 1,
     "metadata": {},
     "output_type": "execute_result"
    }
   ],
   "source": [
    "def test(a,b):\n",
    "    return a+b\n",
    "\n",
    "test(34,43)"
   ]
  },
  {
   "cell_type": "code",
   "execution_count": null,
   "id": "eff46718",
   "metadata": {},
   "outputs": [],
   "source": [
    "#Next step is install pycharm and postman and create api into pycharm project using flask"
   ]
  },
  {
   "cell_type": "code",
   "execution_count": null,
   "id": "adec9c66",
   "metadata": {},
   "outputs": [],
   "source": [
    "\"\"\"\n",
    "Home work - Write a function\n",
    "1. To fetch data from sql table via api\n",
    "2. To fetch data from mongoDB table\n",
    "\"\"\""
   ]
  }
 ],
 "metadata": {
  "kernelspec": {
   "display_name": "Python 3 (ipykernel)",
   "language": "python",
   "name": "python3"
  },
  "language_info": {
   "codemirror_mode": {
    "name": "ipython",
    "version": 3
   },
   "file_extension": ".py",
   "mimetype": "text/x-python",
   "name": "python",
   "nbconvert_exporter": "python",
   "pygments_lexer": "ipython3",
   "version": "3.9.7"
  }
 },
 "nbformat": 4,
 "nbformat_minor": 5
}
