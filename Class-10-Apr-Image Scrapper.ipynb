{
 "cells": [
  {
   "cell_type": "code",
   "execution_count": null,
   "id": "3b5800db",
   "metadata": {},
   "outputs": [],
   "source": [
    "\"\"\"\n",
    "Tasks - \n",
    "1. Try to store all images into mango DB\n",
    "2. Try to implement it with class and objects\n",
    "3. Try to implement all possible coding standards\n",
    "4. Write a function to fetch all images based upon their name from database\n",
    "5. Try to modify code so that it will first search in database and check if images are available for a respective search \n",
    "and if not then scrap images from web.\n",
    "\"\"\""
   ]
  }
 ],
 "metadata": {
  "kernelspec": {
   "display_name": "Python 3 (ipykernel)",
   "language": "python",
   "name": "python3"
  },
  "language_info": {
   "codemirror_mode": {
    "name": "ipython",
    "version": 3
   },
   "file_extension": ".py",
   "mimetype": "text/x-python",
   "name": "python",
   "nbconvert_exporter": "python",
   "pygments_lexer": "ipython3",
   "version": "3.9.7"
  }
 },
 "nbformat": 4,
 "nbformat_minor": 5
}
