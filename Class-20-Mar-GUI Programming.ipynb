{
 "cells": [
  {
   "cell_type": "code",
   "execution_count": 3,
   "id": "e9210f31",
   "metadata": {},
   "outputs": [],
   "source": [
    "#This is responsible for building desktop/windows applications\n",
    "import tkinter"
   ]
  },
  {
   "cell_type": "code",
   "execution_count": 9,
   "id": "45ba2a13",
   "metadata": {},
   "outputs": [],
   "source": [
    "tw = tkinter.Tk()\n",
    "tw.mainloop()"
   ]
  },
  {
   "cell_type": "code",
   "execution_count": 28,
   "id": "70b1d356",
   "metadata": {},
   "outputs": [
    {
     "ename": "TclError",
     "evalue": "failed to create color bitmap for \"C:\\Users\\ngupta\\classes-ai\\history.png\"",
     "output_type": "error",
     "traceback": [
      "\u001b[1;31m---------------------------------------------------------------------------\u001b[0m",
      "\u001b[1;31mTclError\u001b[0m                                  Traceback (most recent call last)",
      "\u001b[1;32m~\\AppData\\Local\\Temp/ipykernel_26884/3790044740.py\u001b[0m in \u001b[0;36m<module>\u001b[1;34m\u001b[0m\n\u001b[0;32m      3\u001b[0m \u001b[0mtw\u001b[0m\u001b[1;33m.\u001b[0m\u001b[0mtitle\u001b[0m\u001b[1;33m=\u001b[0m\u001b[1;33m(\u001b[0m\u001b[1;34m\"My GUI App\"\u001b[0m\u001b[1;33m)\u001b[0m\u001b[1;33m\u001b[0m\u001b[1;33m\u001b[0m\u001b[0m\n\u001b[0;32m      4\u001b[0m \u001b[0mimg\u001b[0m\u001b[1;33m=\u001b[0m\u001b[0mtkinter\u001b[0m\u001b[1;33m.\u001b[0m\u001b[0mPhotoImage\u001b[0m\u001b[1;33m(\u001b[0m\u001b[1;34m\"C:\\\\Users\\\\ngupta\\\\classes-ai\\\\history.png\"\u001b[0m\u001b[1;33m)\u001b[0m\u001b[1;33m\u001b[0m\u001b[1;33m\u001b[0m\u001b[0m\n\u001b[1;32m----> 5\u001b[1;33m \u001b[0mtw\u001b[0m\u001b[1;33m.\u001b[0m\u001b[0miconphoto\u001b[0m\u001b[1;33m(\u001b[0m\u001b[0mtw\u001b[0m\u001b[1;33m,\u001b[0m\u001b[0mimg\u001b[0m\u001b[1;33m)\u001b[0m\u001b[1;33m\u001b[0m\u001b[1;33m\u001b[0m\u001b[0m\n\u001b[0m\u001b[0;32m      6\u001b[0m \u001b[0mtw\u001b[0m\u001b[1;33m.\u001b[0m\u001b[0mgeometry\u001b[0m\u001b[1;33m(\u001b[0m\u001b[1;34m\"600x200+600+260\"\u001b[0m\u001b[1;33m)\u001b[0m\u001b[1;33m\u001b[0m\u001b[1;33m\u001b[0m\u001b[0m\n\u001b[0;32m      7\u001b[0m \u001b[0mtw\u001b[0m\u001b[1;33m.\u001b[0m\u001b[0mmainloop\u001b[0m\u001b[1;33m(\u001b[0m\u001b[1;33m)\u001b[0m\u001b[1;33m\u001b[0m\u001b[1;33m\u001b[0m\u001b[0m\n",
      "\u001b[1;32mC:\\Nitin\\AI\\Anaconda3\\lib\\tkinter\\__init__.py\u001b[0m in \u001b[0;36mwm_iconphoto\u001b[1;34m(self, default, *args)\u001b[0m\n\u001b[0;32m   2123\u001b[0m         On Macintosh, this currently does nothing.\"\"\"\n\u001b[0;32m   2124\u001b[0m         \u001b[1;32mif\u001b[0m \u001b[0mdefault\u001b[0m\u001b[1;33m:\u001b[0m\u001b[1;33m\u001b[0m\u001b[1;33m\u001b[0m\u001b[0m\n\u001b[1;32m-> 2125\u001b[1;33m             \u001b[0mself\u001b[0m\u001b[1;33m.\u001b[0m\u001b[0mtk\u001b[0m\u001b[1;33m.\u001b[0m\u001b[0mcall\u001b[0m\u001b[1;33m(\u001b[0m\u001b[1;34m'wm'\u001b[0m\u001b[1;33m,\u001b[0m \u001b[1;34m'iconphoto'\u001b[0m\u001b[1;33m,\u001b[0m \u001b[0mself\u001b[0m\u001b[1;33m.\u001b[0m\u001b[0m_w\u001b[0m\u001b[1;33m,\u001b[0m \u001b[1;34m\"-default\"\u001b[0m\u001b[1;33m,\u001b[0m \u001b[1;33m*\u001b[0m\u001b[0margs\u001b[0m\u001b[1;33m)\u001b[0m\u001b[1;33m\u001b[0m\u001b[1;33m\u001b[0m\u001b[0m\n\u001b[0m\u001b[0;32m   2126\u001b[0m         \u001b[1;32melse\u001b[0m\u001b[1;33m:\u001b[0m\u001b[1;33m\u001b[0m\u001b[1;33m\u001b[0m\u001b[0m\n\u001b[0;32m   2127\u001b[0m             \u001b[0mself\u001b[0m\u001b[1;33m.\u001b[0m\u001b[0mtk\u001b[0m\u001b[1;33m.\u001b[0m\u001b[0mcall\u001b[0m\u001b[1;33m(\u001b[0m\u001b[1;34m'wm'\u001b[0m\u001b[1;33m,\u001b[0m \u001b[1;34m'iconphoto'\u001b[0m\u001b[1;33m,\u001b[0m \u001b[0mself\u001b[0m\u001b[1;33m.\u001b[0m\u001b[0m_w\u001b[0m\u001b[1;33m,\u001b[0m \u001b[1;33m*\u001b[0m\u001b[0margs\u001b[0m\u001b[1;33m)\u001b[0m\u001b[1;33m\u001b[0m\u001b[1;33m\u001b[0m\u001b[0m\n",
      "\u001b[1;31mTclError\u001b[0m: failed to create color bitmap for \"C:\\Users\\ngupta\\classes-ai\\history.png\""
     ]
    }
   ],
   "source": [
    "import tkinter\n",
    "tw=tkinter.Tk()\n",
    "tw.title=(\"My GUI App\")\n",
    "img=tkinter.PhotoImage(\"C:\\\\Users\\\\ngupta\\\\classes-ai\\\\history.png\")\n",
    "tw.iconphoto(tw,img)\n",
    "tw.geometry(\"600x200+600+260\")\n",
    "tw.mainloop()"
   ]
  },
  {
   "cell_type": "code",
   "execution_count": 27,
   "id": "1d750baa",
   "metadata": {},
   "outputs": [],
   "source": [
    "import tkinter\n",
    "tw=tkinter.Tk()\n",
    "tw.title=(\"My GUI App\")\n",
    "img=tkinter.PhotoImage(\"C:\\\\Users\\\\ngupta\\\\classes-ai\\\\history.png\")\n",
    "lbl=tkinter.Label(tw,text=\"Python is a general programming language\",image=img,compound=tkinter.LEFT)\n",
    "lbl.pack()\n",
    "tw.mainloop()"
   ]
  },
  {
   "cell_type": "code",
   "execution_count": 26,
   "id": "1e58b495",
   "metadata": {},
   "outputs": [],
   "source": [
    "import tkinter\n",
    "tw=tkinter.Tk()\n",
    "tw.geometry(\"600x200+600+260\")\n",
    "tw.title=(\"My GUI App\")\n",
    "img=tkinter.PhotoImage(\"C:\\\\Users\\\\ngupta\\\\classes-ai\\\\history.png\")\n",
    "lbl=tkinter.Label(tw,text=\"Python is a general programming language\",image=img,compound=tkinter.LEFT)\n",
    "lbl.pack()\n",
    "tw.mainloop()"
   ]
  },
  {
   "cell_type": "code",
   "execution_count": 30,
   "id": "549639e9",
   "metadata": {},
   "outputs": [],
   "source": [
    "from tkinter import *\n",
    "def set_red_color(val):\n",
    "    red=hex(int(val))\n",
    "    red=red[2:]\n",
    "    if len(red)==1:\n",
    "        red=\"0\"+red\n",
    "    color=\"#\"+red+\"0000\"\n",
    "    root.configure(bg=color)\n",
    "root = Tk()\n",
    "root.geometry('200x200')\n",
    "sc=Scale(root,from_=0,to=255,orient=HORIZONTAL,command=set_red_color)\n",
    "sc.pack()\n",
    "root.configure(bg=\"#000\")\n",
    "root.mainloop()"
   ]
  },
  {
   "cell_type": "code",
   "execution_count": 32,
   "id": "58ccefd6",
   "metadata": {},
   "outputs": [],
   "source": [
    "from tkinter import *\n",
    "from tkinter import messagebox,simpledialog\n",
    "class MyGUI:\n",
    "    def __init__(self,root):\n",
    "        self.root=root\n",
    "        self.root.geometry('400x200+100+200')\n",
    "        self.l1 = Label(root, text=\"Number Division Program\", font=\"Arial 18 bold\")\n",
    "        self.l2 = Label(root, text=\"First No:\")\n",
    "        self.l3 = Label(root, text=\"Second No:\")\n",
    "        self.l4 = Label(root, text=\"Result:\")\n",
    "        self.e1 = Entry(root)\n",
    "        self.e2 = Entry(root)\n",
    "        self.e3 = Entry(root)\n",
    "        self.b1 = Button(root, text=\"Divide\", command=self.divide)\n",
    "        self.b2 = Button(root, text=\"Clear\", command=self.clear)\n",
    "        self.b3 = Button(root, text=\"Quit\", command=self.finish)\n",
    "        self.l1.grid(row=0, column=0, columnspan=4)\n",
    "        self.l2.grid(row=1, column=0, sticky=E)\n",
    "        self.e1.grid(row=1, column=1)\n",
    "        self.l3.grid(row=2, column=0, sticky=E)\n",
    "        self.e2.grid(row=2, column=1)\n",
    "        self.l4.grid(row=3, column=0, sticky=E)\n",
    "        self.e3.grid(row=3, column=1)\n",
    "        self.b1.grid(row=4, column=0, pady=5, padx=5, sticky=E + W)\n",
    "        self.b2.grid(row=4, column=1, pady=5, padx=5, sticky=E + W)\n",
    "        self.b3.grid(row=4, column=2, pady=5, padx=5, sticky=E + W)\n",
    "    def divide(self):\n",
    "        try:\n",
    "            self.e3.delete(0, END)\n",
    "            self.e3.config(fg=\"red\")\n",
    "            a=int(self.e1.get())\n",
    "            b=int(self.e2.get())\n",
    "            c=a/b\n",
    "            self.e3.insert(0,str(c))\n",
    "            self.e3.config(fg=\"green\")\n",
    "        except ZeroDivisionError:\n",
    "            messagebox.showerror(\"Arithmetic Error!\",\"Denominator should not be 0!\")\n",
    "        except ValueError:\n",
    "            messagebox.showerror(\"Conversion Error!\", \"Only digits allowed!\")\n",
    "    def clear(self):\n",
    "        self.e1.delete(0, END)\n",
    "        self.e2.delete(0, END)\n",
    "        self.e3.delete(0, END)\n",
    "        self.e1.focus()\n",
    "\n",
    "    def finish(self):\n",
    "        answer = messagebox.askyesno(\"Quitting!\", \"Are you sure you want to quit?\")\n",
    "        if answer==True:\n",
    "            name=simpledialog.askstring(\"Input\",\"What is your name?\")\n",
    "        if name is None or name==\"\":\n",
    "            name=\" UserJee!\"\n",
    "        messagebox.showinfo(\"Thank you\",\"Have a good day \"+name)\n",
    "        self.root.destroy()"
   ]
  },
  {
   "cell_type": "code",
   "execution_count": null,
   "id": "b069fa76",
   "metadata": {},
   "outputs": [],
   "source": []
  }
 ],
 "metadata": {
  "kernelspec": {
   "display_name": "Python 3 (ipykernel)",
   "language": "python",
   "name": "python3"
  },
  "language_info": {
   "codemirror_mode": {
    "name": "ipython",
    "version": 3
   },
   "file_extension": ".py",
   "mimetype": "text/x-python",
   "name": "python",
   "nbconvert_exporter": "python",
   "pygments_lexer": "ipython3",
   "version": "3.9.7"
  }
 },
 "nbformat": 4,
 "nbformat_minor": 5
}
